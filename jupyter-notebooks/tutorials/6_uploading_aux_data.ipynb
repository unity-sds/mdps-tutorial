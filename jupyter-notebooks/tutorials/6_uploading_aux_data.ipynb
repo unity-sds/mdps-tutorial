{
 "cells": [
  {
   "cell_type": "markdown",
   "id": "3be345ad-b008-45c6-b481-46888d2d2ebc",
   "metadata": {
    "editable": true,
    "slideshow": {
     "slide_type": ""
    },
    "tags": []
   },
   "source": [
    "# Working with Data\n",
    "\n",
    "The intent of this tutorial is to help familiarize yourself with browsing for data that will be used along with an application to generate data by submitting a job. Job submission will be covered in the next tutorial. Run each cell in order (shift-enter). The notes will indicate when you need to edit code to customize things (e.g., to indicate a data collection)vs. being prompted by running the cell (e.g. for your username and password)."
   ]
  },
  {
   "cell_type": "code",
   "execution_count": 22,
   "id": "93e43227-c229-4ed4-a514-9293eda6c4f6",
   "metadata": {
    "editable": true,
    "slideshow": {
     "slide_type": ""
    },
    "tags": []
   },
   "outputs": [],
   "source": [
    "import json\n",
    "from IPython.display import JSON\n",
    "from pathlib import Path\n",
    "import datetime\n",
    "import os\n",
    "import requests\n",
    "\n",
    "from unity_sds_client.unity import Unity\n",
    "from unity_sds_client.unity import UnityEnvironments\n",
    "from unity_sds_client.unity_session import UnitySession\n",
    "from unity_sds_client.unity_services import UnityServices as services\n",
    "from unity_sds_client.resources.collection import Collection\n",
    "from unity_sds_client.resources.dataset import Dataset\n",
    "from unity_sds_client.resources.data_file import DataFile"
   ]
  },
  {
   "cell_type": "code",
   "execution_count": 2,
   "id": "f848cd0d-f493-427f-b8be-6dfbed2b3213",
   "metadata": {
    "editable": true,
    "slideshow": {
     "slide_type": ""
    },
    "tags": []
   },
   "outputs": [
    {
     "name": "stdin",
     "output_type": "stream",
     "text": [
      "Please enter your Unity username:  gangl\n",
      "Please enter your Unity password:  ········\n"
     ]
    }
   ],
   "source": [
    "# We will set the environment to 'DEV' here but this should be set to test or prod eventually.\n",
    "s = Unity(UnityEnvironments.TEST)\n",
    "# set the venue for interacting with venue specific services\n",
    "# if your venue id is a single string, use the following"
   ]
  },
  {
   "cell_type": "markdown",
   "id": "1a128652-a73b-4b9c-93ce-5f4147d73c32",
   "metadata": {
    "editable": true,
    "slideshow": {
     "slide_type": ""
    },
    "tags": []
   },
   "source": [
    "## List Available Data Collections in the Unity System\n",
    "\n",
    "Data is organized into Collections. Any particular data file will be in at least one Collection."
   ]
  },
  {
   "cell_type": "code",
   "execution_count": 3,
   "id": "a8e1ffbd-ee53-497b-8c89-ce9929263e4d",
   "metadata": {
    "editable": true,
    "slideshow": {
     "slide_type": ""
    },
    "tags": []
   },
   "outputs": [
    {
     "name": "stdout",
     "output_type": "stream",
     "text": [
      "urn:nasa:unity:unity:test:SBG-AUX___1\n",
      "urn:nasa:unity:unity:test:my-awesome-collection___1\n",
      "urn:nasa:unity:unity:test:SBG-L2B_VEGBIOCHEM___1\n",
      "urn:nasa:unity:unity:test:SBG-L2B_FRCOV___1\n",
      "urn:nasa:unity:unity:test:SBG-L2A_CORFL___1\n",
      "urn:nasa:unity:unity:test:SBG-L2A_RSRFL___1\n",
      "urn:nasa:unity:unity:test:SBG-L2A_RFL___1\n",
      "urn:nasa:unity:unity:test:SBG-L1B_PRE___1\n",
      "urn:nasa:unity:uds_local_test:TEST1:NEW_COLLECTION_EXAMPLE_L1B___NGA9\n",
      "urn:nasa:unity:ssips:TEST1:CHRP_16_DAY_REBIN___NGA3\n"
     ]
    }
   ],
   "source": [
    "dataManager = s.client(services.DATA_SERVICE)\n",
    "collections = dataManager.get_collections()\n",
    "for c in collections:\n",
    "    print(c.collection_id)\n"
   ]
  },
  {
   "cell_type": "markdown",
   "id": "3bf2aade-b56a-40b1-bd87-44519c3989c7",
   "metadata": {},
   "source": [
    "## Given a collection (above), List the files within that collection\n",
    "\n",
    "Executing this cell will retrieve all the files in a Collection defined by the data_set variable. Then it will print out the name and href location of each (up to a limit defined in this code block).\n",
    "\n",
    "To see a different data Collection, change the data_set variable to one of the other Collections you found in the step above. If you would like to limit your query to something other than 100 files, change the value in the params.append() call."
   ]
  },
  {
   "cell_type": "code",
   "execution_count": 24,
   "id": "1bb34cc9-eaae-4efd-82c0-6f33043b6207",
   "metadata": {
    "editable": true,
    "slideshow": {
     "slide_type": ""
    },
    "tags": []
   },
   "outputs": [],
   "source": [
    "collection_id = \"urn:nasa:unity:unity:test:SBG-AUX___1\"\n",
    "cd = dataManager.get_collection_data(Collection(collection_id))\n",
    "for dataset in cd:\n",
    "    print(f'dataset name: {dataset.data_begin_time}')\n",
    "    print(f'dataset name: {dataset.id}' )\n",
    "    for f in dataset.datafiles:\n",
    "        print(f)\n",
    "        #print(\"\t\" + f.location + \", roles: \" + str(f.roles) + \", type: \" + f.type + \", description: \" + f.description + \", title: \" + f.title)"
   ]
  },
  {
   "cell_type": "markdown",
   "id": "a369e43f-728e-48d6-8335-c1ee9659d2ec",
   "metadata": {},
   "source": [
    "## Add data files to a collection - Coming soon\n",
    "\n",
    "There are a number of use cases where a user wants to catalog datafiles in S3 for various reason. One might be to share or persist some work. Another might be to upload auxiliary data for use in the processing system instead of bundling it with ones code (e.g. your code needs access to multi-GB climatolgy or models). The following commands assumes that data exists on S3, and that we want to register that in the unity data catalog.\n",
    "\n",
    "Data files are added via STAC catalogs. Below we will upload several files, create a stac entry for them, and then request they be _cataloged_ in the system. Within unity, the creation/storage of a file and the catalogging of that file are spearate events. This may change in the future, but this offers some flexibility for transient files currently."
   ]
  },
  {
   "cell_type": "markdown",
   "id": "d27763b0-fdbc-4ffe-b467-c7b4f01e323a",
   "metadata": {},
   "source": [
    "## Upload Data Products\n",
    "\n",
    "This was run on the command line, but this is the general way to upload a file- we want to use the collection_id we plan on adding this to, but that's not 100% necessary.\n",
    "\n",
    "```\n",
    "jovyan@jupyter-gangl:/unity/ads/input_collections/SBG_AUX$ wget https://avng.jpl.nasa.gov/pub/PBrodrick/emulator/sRTMnet_v120.h5\n",
    "2024-02-28 19:35:13 (38.6 MB/s) - ‘sRTMnet_v120.h5’ saved [5801110556/5801110556]\n",
    "\n",
    "jovyan@jupyter-gangl:/unity/ads/input_collections/SBG_AUX$ wget https://avng.jpl.nasa.gov/pub/PBrodrick/emulator/sRTMnet_v120_aux.npz\n",
    "2024-02-28 19:35:13 (1.64 MB/s) - ‘sRTMnet_v120_aux.npz’ saved [180804/180804]\n",
    "\n",
    "\n",
    "jovyan@jupyter-gangl:/unity/ads/input_collections/SBG_AUX$ ls\n",
    "sRTMnet_v120_aux.npz  sRTMnet_v120.h5\n",
    "\n",
    "jovyan@jupyter-gangl:/unity/ads/input_collections/SBG_AUX$ aws s3 cp sRTMnet_v120.h5 s3://sps-test-ds-storage/urn:nasa:unity:unity:test:SBG-AUX___1/urn:nasa:unity:unity:test:SBG-AUX___1:sRTMnet_v120.h5/sRTMnet_v120.h5\n",
    "upload failed: ./sRTMnet_v120.h5 to s3://sps-test-ds-storage/urn:nasa:unity:unity:test:SBG-AUX___1/urn:nasa:unity:unity:test:SBG-AUX___1:sRTMnet_v120.h5/sRTMnet_v120.h5 An error occurred (AccessDenied) when calling the CreateMultipartUpload operation: Access Denied\n",
    "```\n",
    "\n",
    "Currently we don't give users permissions to upload files to the S3 bucket, so this was done by a member of the Unity Team.\n",
    "\n",
    "```\n",
    "jovyan@jupyter-gangl:/unity/ads/input_collections/SBG_AUX$ aws s3 cp sRTMnet_v120.h5 s3://sps-test-ds-storage/urn:nasa:unity:unity:test:SBG-AUX___1/urn:nasa:unity:unity:test:SBG-AUX___1:sRTMnet_v120.h5/sRTMnet_v120.h5\n",
    "upload: ./sRTMnet_v120.h5 to s3://sps-test-ds-storage/urn:nasa:unity:unity:test:SBG-AUX___1/urn:nasa:unity:unity:test:SBG-AUX___1:sRTMnet_v120.h5/sRTMnet_v120.h5\n",
    "jovyan@jupyter-gangl:/unity/ads/input_collections/SBG_AUX$ aws s3 cp sRTMnet_v120_aux.npz s3://sps-test-ds-storage/urn:nasa:unity:unity:test:SBG-AUX___1/urn:nasa:unity:unity:test:SBG-AUX___1:sRTMnet_v120.h5/sRTMnet_v120_aux.npz\n",
    "upload: ./sRTMnet_v120_aux.npz to s3://sps-test-ds-storage/urn:nasa:unity:unity:test:SBG-AUX___1/urn:nasa:unity:unity:test:SBG-AUX___1:sRTMnet_v120.h5/sRTMnet_v120_aux.npz\n",
    "jovyan@jupyter-gangl:/unity/ads/input_collections/SBG_AUX$ \n",
    "```\n"
   ]
  },
  {
   "cell_type": "code",
   "execution_count": 18,
   "id": "d694a267-77c8-4a71-8e86-36a6aec9e8f4",
   "metadata": {},
   "outputs": [],
   "source": [
    "output_directory = str(Path(\"data/SBG-AUX___1\").resolve())\n",
    "collection  = Collection(\"urn:nasa:unity:unity:test:SBG-AUX___1\")\n",
    "\n",
    "# Create a Dataset for the collection\n",
    "dataset_name = \"urn:nasa:unity:unity:test:SBG-AUX___1:sRTMnet_v120.h5\"\n",
    "#the start/stop time aren't actually important for these files in our use case, but might be if we want to version these files.\n",
    "dataset_start_time = \"2023-06-15T01:31:12.467113Z\"\n",
    "dataset_end_time = \"2023-06-15T01:36:12.467113Z\"\n",
    "dataset_create_time = datetime.datetime.utcnow().replace(tzinfo=datetime.timezone.utc).isoformat()\n",
    "dataset = Dataset(dataset_name, collection.collection_id, dataset_start_time, dataset_end_time, dataset_create_time)\n",
    "\n",
    "dataset.add_data_file(DataFile(\"HDF5\",\"s3://sps-test-ds-storage/urn:nasa:unity:unity:test:SBG-AUX___1/urn:nasa:unity:unity:test:SBG-AUX___1:sRTMnet_v120.h5/sRTMnet_v120.h5\", [\"data\"]))\n",
    "dataset.add_data_file(DataFile(None,\"s3://sps-test-ds-storage/urn:nasa:unity:unity:test:SBG-AUX___1/urn:nasa:unity:unity:test:SBG-AUX___1:sRTMnet_v120.h5/sRTMnet_v120_aux.npz\", [\"metadata\"]))\n",
    "        \n",
    "#Add the STAC file we are creating\n",
    "dataset.add_data_file(DataFile(\"text/json\",os.path.join(output_directory, dataset_name + \".json\"), [\"metadata\"]))\n",
    "collection.add_dataset(dataset)\n",
    "Collection.to_stac(collection, output_directory)"
   ]
  },
  {
   "cell_type": "markdown",
   "id": "b5be0b7e-229c-4252-996b-0551774109f0",
   "metadata": {},
   "source": [
    "## Upload the metadata file to S3\n",
    "\n",
    "Now we must upload the STAC file to the S3 Bucket...\n",
    "\n",
    "The key, for now, needs to be the name of the file (not the full path), so here we manually update the files. Below are the same contents of `data/SBG-AUX___1/sRTMnet_v120.h5.json`\n"
   ]
  },
  {
   "cell_type": "code",
   "execution_count": 25,
   "id": "b3fe510a-b236-43e1-b2f9-e451a3f91d2a",
   "metadata": {},
   "outputs": [],
   "source": [
    "# The container we will publish\n",
    "stac_features = {\n",
    "  \"provider_id\": \"unity\",\n",
    "  \"features\": [\n",
    "    {\n",
    "      \"type\": \"Feature\",\n",
    "      \"stac_version\": \"1.0.0\",\n",
    "      \"id\": \"urn:nasa:unity:unity:test:SBG-AUX___1:sRTMnet_v120.h5\",\n",
    "      \"properties\": {\n",
    "        \"datetime\": \"2023-06-15T01:31:12.467113Z\",\n",
    "        \"start_datetime\": \"2023-06-15T01:31:12.467113Z\",\n",
    "        \"end_datetime\": \"2023-06-15T01:36:12.467113Z\",\n",
    "        \"created\": \"2024-02-28T20:00:34.718750+00:00\",\n",
    "        \"updated\": \"2024-02-28T20:00:34.719066Z\"\n",
    "      },\n",
    "      \"geometry\": None,\n",
    "      \"links\": [\n",
    "        {\n",
    "          \"rel\": \"root\",\n",
    "          \"href\": \"./catalog.json\",\n",
    "          \"type\": \"application/json\"\n",
    "        },\n",
    "        {\n",
    "          \"rel\": \"parent\",\n",
    "          \"href\": \"./catalog.json\",\n",
    "          \"type\": \"application/json\"\n",
    "        }\n",
    "      ],\n",
    "      \"assets\": {\n",
    "        \"sRTMnet_v120.h5\": {\n",
    "          \"href\": \"s3://sps-test-ds-storage/urn:nasa:unity:unity:test:SBG-AUX___1/urn:nasa:unity:unity:test:SBG-AUX___1:sRTMnet_v120.h5/sRTMnet_v120.h5\",\n",
    "          \"title\": \"HDF5 file\",\n",
    "          \"description\": \"\",\n",
    "          \"roles\": [\n",
    "            \"data\"\n",
    "          ]\n",
    "        },\n",
    "        \"sRTMnet_v120_aux.npz\": {\n",
    "          \"href\": \"s3://sps-test-ds-storage/urn:nasa:unity:unity:test:SBG-AUX___1/urn:nasa:unity:unity:test:SBG-AUX___1:sRTMnet_v120.h5/sRTMnet_v120_aux.npz\",\n",
    "          \"title\": \"None file\",\n",
    "          \"description\": \"\",\n",
    "          \"roles\": [\n",
    "            \"metadata\"\n",
    "          ]\n",
    "        },\n",
    "        \"urn:nasa:unity:unity:test:SBG-AUX___1:sRTMnet_v120.h5.json\": {\n",
    "          \"href\": \"s3://sps-test-ds-storage/urn:nasa:unity:unity:test:SBG-AUX___1/urn:nasa:unity:unity:test:SBG-AUX___1:sRTMnet_v120.h5/urn:nasa:unity:unity:test:SBG-AUX___1:sRTMnet_v120.h5.json\",\n",
    "          \"title\": \"text/json file\",\n",
    "          \"description\": \"\",\n",
    "          \"roles\": [\n",
    "            \"metadata\"\n",
    "          ]\n",
    "        }\n",
    "      },\n",
    "      \"stac_extensions\": [],\n",
    "      \"collection\": \"urn:nasa:unity:unity:test:SBG-AUX___1\"\n",
    "    }\n",
    "  ]\n",
    "}\n"
   ]
  },
  {
   "cell_type": "code",
   "execution_count": 26,
   "id": "029d5757-8c8c-4934-849f-d8740c2b6649",
   "metadata": {},
   "outputs": [],
   "source": [
    "token = s._session.get_auth().get_token()\n",
    "base_url = s._session.get_unity_href()\n",
    "url = f'{base_url}am-uds-dapa/collections'\n",
    "header = {\n",
    "            'Authorization': f'Bearer {token}',\n",
    "            'Content-Type': 'application/json',\n",
    "        }\n",
    "# print(url)\n",
    "response = requests.put(url=url, headers=header, data=json.dumps(stac_features))"
   ]
  },
  {
   "cell_type": "code",
   "execution_count": 27,
   "id": "b567649a-9272-416b-bf58-2dc275f2434c",
   "metadata": {},
   "outputs": [
    {
     "name": "stdout",
     "output_type": "stream",
     "text": [
      "<Response [202]>\n"
     ]
    }
   ],
   "source": [
    "print(response)"
   ]
  },
  {
   "cell_type": "markdown",
   "id": "e81ee1e1-c485-45c2-9074-29c5c3d935fc",
   "metadata": {
    "editable": true,
    "slideshow": {
     "slide_type": ""
    },
    "tags": []
   },
   "source": [
    "We now will query the collection and, in time, the dataset should appear."
   ]
  },
  {
   "cell_type": "code",
   "execution_count": 31,
   "id": "35afbb88-78da-4a77-ba5c-46c2d3d1b2e0",
   "metadata": {},
   "outputs": [
    {
     "name": "stdout",
     "output_type": "stream",
     "text": [
      "dataset name: 2023-06-15T01:31:12.467000Z\n",
      "dataset name: urn:nasa:unity:unity:test:SBG-AUX___1:sRTMnet_v120.h5\n",
      "unity_sds_client.resources.DataFile(location=s3://sps-test-ds-storage/urn:nasa:unity:unity:test:SBG-AUX___1/urn:nasa:unity:unity:test:SBG-AUX___1:sRTMnet_v120.h5/urn:nasa:unity:unity:test:SBG-AUX___1:sRTMnet_v120.h5.cmr.xml)\n",
      "unity_sds_client.resources.DataFile(location=s3://sps-test-ds-storage/urn:nasa:unity:unity:test:SBG-AUX___1/urn:nasa:unity:unity:test:SBG-AUX___1:sRTMnet_v120.h5/sRTMnet_v120_aux.npz)\n",
      "unity_sds_client.resources.DataFile(location=s3://sps-test-ds-storage/urn:nasa:unity:unity:test:SBG-AUX___1/urn:nasa:unity:unity:test:SBG-AUX___1:sRTMnet_v120.h5/urn:nasa:unity:unity:test:SBG-AUX___1:sRTMnet_v120.h5.json)\n",
      "unity_sds_client.resources.DataFile(location=s3://sps-test-ds-storage/urn:nasa:unity:unity:test:SBG-AUX___1/urn:nasa:unity:unity:test:SBG-AUX___1:sRTMnet_v120.h5/sRTMnet_v120.h5)\n"
     ]
    }
   ],
   "source": [
    "collection_id = \"urn:nasa:unity:unity:test:SBG-AUX___1\"\n",
    "cd = dataManager.get_collection_data(Collection(collection_id))\n",
    "for dataset in cd:\n",
    "    print(f'dataset name: {dataset.data_begin_time}')\n",
    "    print(f'dataset name: {dataset.id}' )\n",
    "    for f in dataset.datafiles:\n",
    "        print(f)\n",
    "        #print(\"\t\" + f.location + \", roles: \" + str(f.roles) + \", type: \" + f.type + \", description: \" + f.description + \", title: \" + f.title)"
   ]
  },
  {
   "cell_type": "code",
   "execution_count": null,
   "id": "93c37a51-ada4-4b32-83da-933775f24371",
   "metadata": {},
   "outputs": [],
   "source": []
  }
 ],
 "metadata": {
  "kernelspec": {
   "display_name": "Python [conda env:root] *",
   "language": "python",
   "name": "conda-root-py"
  },
  "language_info": {
   "codemirror_mode": {
    "name": "ipython",
    "version": 3
   },
   "file_extension": ".py",
   "mimetype": "text/x-python",
   "name": "python",
   "nbconvert_exporter": "python",
   "pygments_lexer": "ipython3",
   "version": "3.11.6"
  }
 },
 "nbformat": 4,
 "nbformat_minor": 5
}
