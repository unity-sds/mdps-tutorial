{
 "cells": [
  {
   "cell_type": "markdown",
   "id": "2efbd143-168d-481b-9727-679542d0a14e",
   "metadata": {
    "editable": true,
    "slideshow": {
     "slide_type": ""
    },
    "tags": []
   },
   "source": [
    "# Working with processes and jobs - Coming Soon\n",
    "Unity helps teams move quickly from algorithm development and testing in Jupyter into large-scale processing with the Scaled Processing System (SPS). In order to do this, algorithms developed in Jupyter must be: \n",
    "1. Registered in the Application Catalog (see 1_working_with_applications.ipynb) as _Applications_, \n",
    "2. Deployed to an Application Deployment and Execution Service (ADES) in SPS where they are referred to as _Processes_, and then may be \n",
    "3. Run on the SPS as _Jobs_.\n",
    "\n",
    "The intent of this tutorial is to help familiarize yourself with execution of code at scale using _Processes_ and _Jobs_. Unity provides users the ability to execute _Jobs_ to produce data. The steps below will showcase how a job is typically submitted to the Unity Platform.\n",
    "\n",
    "## Coming Soon\n",
    "updates to the deployment of the underlying SPS have made this notebook unavailable for the time being. By the time we have deployed the newest SPS in test and operational venuee, we will have updated this notebook and amde it available."
   ]
  },
  {
   "cell_type": "markdown",
   "id": "cc8ce426-16dc-4e2e-bbf6-02ca7bb2513b",
   "metadata": {
    "tags": []
   },
   "source": [
    "## 0. Set up imports, predefined variables, and authentication\n",
    "\n",
    "For this Tutorial we will make use of the Unity-Py client Python package."
   ]
  },
  {
   "cell_type": "markdown",
   "id": "a4037156-e9ee-4b99-aee8-569772ae1d29",
   "metadata": {},
   "source": [
    "### Imports"
   ]
  },
  {
   "cell_type": "code",
   "execution_count": 6,
   "id": "943d7f5c-0215-4443-9944-b86eefa64630",
   "metadata": {
    "editable": true,
    "slideshow": {
     "slide_type": ""
    },
    "tags": []
   },
   "outputs": [],
   "source": [
    "import requests\n",
    "import time\n",
    "\n",
    "from datetime import datetime\n",
    "from IPython.display import JSON\n",
    "\n",
    "from unity_sds_client.unity import Unity\n",
    "from unity_sds_client.unity_services import UnityServices\n",
    "from unity_sds_client.resources.job_status import JobStatus"
   ]
  },
  {
   "cell_type": "markdown",
   "id": "9f667721-d0dd-4f38-8eb9-f44aabbe1ac1",
   "metadata": {
    "editable": true,
    "slideshow": {
     "slide_type": ""
    },
    "tags": []
   },
   "source": [
    "### Predefined Variables"
   ]
  },
  {
   "cell_type": "code",
   "execution_count": 7,
   "id": "99e378e8-db84-4483-9860-7522b9c37ebc",
   "metadata": {
    "editable": true,
    "slideshow": {
     "slide_type": ""
    },
    "tags": []
   },
   "outputs": [
    {
     "name": "stdin",
     "output_type": "stream",
     "text": [
      "Please enter your Unity username:  gangl\n",
      "Please enter your Unity password:  ········\n"
     ]
    }
   ],
   "source": [
    "unity = Unity()\n",
    "unity.set_venue_id(\"unity-sips-test\")\n",
    "process_service = unity.client(UnityServices.PROCESS_SERVICE)"
   ]
  },
  {
   "cell_type": "markdown",
   "id": "9f1cdbbc-6c38-4c2a-955a-08ac8d13e366",
   "metadata": {
    "editable": true,
    "slideshow": {
     "slide_type": ""
    },
    "tags": []
   },
   "source": [
    "## Listing all deployed processes\n",
    "\n",
    "The Unity-Py client provides the ability to view all deployed application packages (a.k.a., Processes) on the system using the `get_processes` function. After a successful deployment of an application package to SPS, you should see a new entry for the deployed application.\n",
    "\n",
    "The `id` property is one of the properties needed to execute the Process and see existing Jobs for a given Process."
   ]
  },
  {
   "cell_type": "code",
   "execution_count": 8,
   "id": "9d893087-c733-477f-880b-283a1b675df9",
   "metadata": {
    "editable": true,
    "slideshow": {
     "slide_type": ""
    },
    "tags": []
   },
   "outputs": [
    {
     "name": "stdout",
     "output_type": "stream",
     "text": [
      "Process ID: chirp:develop\n",
      "Process Title: CHIRP Rebinning\n",
      "Process Abstract: chirp\n",
      "Process Version: develop\n",
      "\n",
      "unity_sds_client.resources.Process(\n",
      "    id=\"chirp:develop\",\n",
      "    title=\"CHIRP Rebinning\",\n",
      "    abstract=\"chirp\",\n",
      "    execution_unit=\"1\",\n",
      "    immediate_deployment=true,\n",
      "    job_control_options=['async-execute'],\n",
      "    keywords=\"\",\n",
      "    output_transmission=['reference'],\n",
      "    ows_context_url=\"https://raw.githubusercontent.com/unity-sds/unity-sps-workflows/mike-gangl-patch-1/sounder_sips/chirp/chirp-rebinning-e2e-workflow-wrapper.test.cwl\",\n",
      "    process_version=\"develop\"\n",
      ")\n"
     ]
    }
   ],
   "source": [
    "processes = process_service.get_processes()\n",
    "for process in processes:\n",
    "    print(\"Process ID: {}\".format(process.id))\n",
    "    print(\"Process Title: {}\".format(process.title))\n",
    "    print(\"Process Abstract: {}\".format(process.abstract))\n",
    "    print(\"Process Version: {}\".format(process.process_version))\n",
    "    print(\"\")\n",
    "    print(process)\n",
    "    \n",
    "my_process = processes[0]\n"
   ]
  },
  {
   "cell_type": "markdown",
   "id": "51426e28-3fa9-41fd-bc52-eca7053c24e7",
   "metadata": {
    "editable": true,
    "slideshow": {
     "slide_type": ""
    },
    "tags": []
   },
   "source": [
    "### Retrieve a deployed process's information\n",
    "\n",
    "If you know the ID of the process, the process information can be retrieved using the `get_process(id)` method of `ProcessService`.\n"
   ]
  },
  {
   "cell_type": "code",
   "execution_count": 9,
   "id": "9f2c9ea5-2691-4e4a-bc00-0b682b6a41fd",
   "metadata": {
    "editable": true,
    "slideshow": {
     "slide_type": ""
    },
    "tags": []
   },
   "outputs": [
    {
     "name": "stdout",
     "output_type": "stream",
     "text": [
      "unity_sds_client.resources.Process(\n",
      "    id=\"chirp:develop\",\n",
      "    title=\"CHIRP Rebinning\",\n",
      "    abstract=\"chirp\",\n",
      "    execution_unit=\"1\",\n",
      "    immediate_deployment=true,\n",
      "    job_control_options=['async-execute'],\n",
      "    keywords=\"\",\n",
      "    output_transmission=['reference'],\n",
      "    ows_context_url=\"https://raw.githubusercontent.com/unity-sds/unity-sps-workflows/mike-gangl-patch-1/sounder_sips/chirp/chirp-rebinning-e2e-workflow-wrapper.test.cwl\",\n",
      "    process_version=\"develop\"\n",
      ")\n"
     ]
    }
   ],
   "source": [
    "process = process_service.get_process('chirp:develop')\n",
    "print(process)"
   ]
  },
  {
   "cell_type": "markdown",
   "id": "00fc3f8f-8d05-4765-92cb-99bc25778a02",
   "metadata": {
    "editable": true,
    "slideshow": {
     "slide_type": ""
    },
    "tags": []
   },
   "source": [
    "## Execute a job\n",
    "Before deploying Applications and working with jobs, it is assumed that a system administrator has deployed an ADES. These are often called \"venues\" or \"environments\", and some examples may be dev, test, prod, etc. To run a Job, you need a Process available as well (a deployed Application). In this case we have a demo application deployed and referenced in the setup step 0 above.\n",
    "\n",
    "With an ADES and a Process ready to accept our Job, we can submit a Job along with any input data or parameters that are needed (as defined by a template job definition for a particular Application). In this example case, none are needed so `inputs` is blank. The response will provide a Job ID that we will store in a variable called `job_id` for use later.\n"
   ]
  },
  {
   "cell_type": "code",
   "execution_count": 10,
   "id": "f923ee90-3e0a-4911-a765-fdd8233d73ea",
   "metadata": {
    "editable": true,
    "slideshow": {
     "slide_type": ""
    },
    "tags": []
   },
   "outputs": [
    {
     "name": "stdin",
     "output_type": "stream",
     "text": [
      "Please enter your Unity username:  gangl\n",
      "Please enter your Unity password:  ········\n"
     ]
    },
    {
     "name": "stdout",
     "output_type": "stream",
     "text": [
      "unity_sds_client.resources.Job(\n",
      "    id=\"3cac81ed-2727-4b5c-9f26-5e50654135a2\",\n",
      "    status=\"\",\n",
      "    inputs=None\n",
      ")\n",
      "\n",
      "Job Submission Successful!\n",
      "JOB ID: 3cac81ed-2727-4b5c-9f26-5e50654135a2\n",
      "\n"
     ]
    }
   ],
   "source": [
    "data = {\n",
    "  \"mode\": \"async\",\n",
    "  \"response\": \"document\",\n",
    "  \"inputs\": [\n",
    "    {\n",
    "      \"id\": \"input_processing_labels\",\n",
    "      \"data\": [\n",
    "        \"gangl_test\"\n",
    "      ]\n",
    "    },\n",
    "    {\n",
    "      \"id\": \"input_cmr_collection_name\",\n",
    "      \"data\": \"C2011289787-GES_DISC\"\n",
    "    },\n",
    "    {\n",
    "      \"id\": \"input_cmr_search_start_time\",\n",
    "      \"data\": \"2016-08-30T00:10:00Z\"\n",
    "    },\n",
    "    {\n",
    "      \"id\": \"input_cmr_search_stop_time\",\n",
    "      \"data\": \"2016-08-31T01:10:00Z\"\n",
    "    },\n",
    "    {\n",
    "      \"id\": \"input_cmr_edl_user\",\n",
    "      \"data\": \"cmr_user\"\n",
    "    },\n",
    "    {\n",
    "      \"id\": \"input_cmr_edl_pass\",\n",
    "      \"data\": \"cmr_pass\"\n",
    "    },\n",
    "    {\n",
    "      \"id\": \"output_collection_id\",\n",
    "      \"data\": \"urn:nasa:unity:ssips:TEST1:CHRP_16_DAY_REBIN___1\"\n",
    "    },\n",
    "    {\n",
    "      \"id\": \"output_data_bucket\",\n",
    "      \"data\": \" ssips-test-ds-storage-reproc\"\n",
    "    },\n",
    "    {\n",
    "      \"id\": \"input_daac_collection_shortname\",\n",
    "      \"data\": \"CHIRP_L1B\"\n",
    "    },\n",
    "    {\n",
    "      \"id\": \"input_daac_collection_sns\",\n",
    "      \"data\": \"arn:://SNS-arn\"\n",
    "    }\n",
    "  ],\n",
    "  \"outputs\": [\n",
    "    {\n",
    "      \"id\": \"output\",\n",
    "      \"transmissionMode\": \"reference\"\n",
    "    }\n",
    "  ]\n",
    "}\n",
    "\n",
    "try:\n",
    "    unity = Unity()\n",
    "    unity.set_venue_id(\"unity-sips-test\")\n",
    "    process_service = unity.client(UnityServices.PROCESS_SERVICE)\n",
    "    my_process = process_service.get_process('chirp:develop')\n",
    "    # Store Job ID to use in future steps\n",
    "    job = my_process.execute(data)\n",
    "    print(job)\n",
    "\n",
    "    # If the job submission is successful, print a success message along with the returned JOB-ID\n",
    "    print(\"\\nJob Submission Successful!\\nJOB ID: {}\\n\".format(job.id))\n",
    "\n",
    "except requests.exceptions.HTTPError as e:\n",
    "    # An error has occurred, print the error message that was generated\n",
    "    print(e.reason)"
   ]
  },
  {
   "cell_type": "markdown",
   "id": "7aed28d0-ab28-445c-bbb7-9ead5f5aa160",
   "metadata": {
    "editable": true,
    "slideshow": {
     "slide_type": ""
    },
    "tags": []
   },
   "source": [
    "## Get the job status / Monitor Job\n",
    "The code below will demonstrate how one can check the status of the Job. The potential status responses are documented [here] _need a reference to process status_.\n",
    "\n",
    "In this example, we will look up the status of the predfined application name from the setup step 0, and the job ID that was returned previously. This function will loop/block until the process ends. You will see a printout every 5 seconds."
   ]
  },
  {
   "cell_type": "code",
   "execution_count": 10,
   "id": "83e4cc43-3fdf-4e4a-a84c-7bb49f0aa8c3",
   "metadata": {
    "editable": true,
    "slideshow": {
     "slide_type": ""
    },
    "tags": []
   },
   "outputs": [
    {
     "name": "stdout",
     "output_type": "stream",
     "text": [
      "\n",
      "Status for job \"17df459d-ac85-45f6-800c-94a09a145f8f\" (22:17:42): accepted\n",
      "\n"
     ]
    }
   ],
   "source": [
    "try:\n",
    "\n",
    "    job_status = job.get_status()\n",
    "    \n",
    "    while job_status == JobStatus.RUNNING:\n",
    "        print(\"Status for job \\\"{}\\\" ({}): {}\".format(job.id, datetime.now().strftime(\"%H:%M:%S\"), job_status.value))\n",
    "        time.sleep(5)\n",
    "        job_status = job.get_status()\n",
    "    \n",
    "    # Print the job status\n",
    "    print(\"\\nStatus for job \\\"{}\\\" ({}): {}\\n\".format(job.id, datetime.now().strftime(\"%H:%M:%S\"),job_status.value))\n",
    "    \n",
    "except requests.exceptions.HTTPError as e:\n",
    "    # An error has occurred, print the error message that was generated\n",
    "    print(e.reason)\n"
   ]
  },
  {
   "cell_type": "code",
   "execution_count": 11,
   "id": "1b86f784-c7d2-4b39-be45-d7e3e69d70e1",
   "metadata": {
    "editable": true,
    "slideshow": {
     "slide_type": ""
    },
    "tags": []
   },
   "outputs": [
    {
     "data": {
      "text/plain": [
       "<unity_sds_client.resources.process.Process at 0x7f0b2f9b8e90>"
      ]
     },
     "execution_count": 11,
     "metadata": {},
     "output_type": "execute_result"
    }
   ],
   "source": [
    "my_process"
   ]
  },
  {
   "cell_type": "markdown",
   "id": "ffdc7ff4-27aa-4f14-8125-f1851e9ae90f",
   "metadata": {},
   "source": [
    "## List all jobs for a given process\n",
    "\n",
    "What if I restarted my notebook and I have no Job ID? The API can ask the process endpoint to list the Jobs for a given Process (deployed Application).\n"
   ]
  },
  {
   "cell_type": "code",
   "execution_count": 14,
   "id": "a1c169a6-e4ab-4d9b-bc3f-8b867572be16",
   "metadata": {},
   "outputs": [
    {
     "name": "stdout",
     "output_type": "stream",
     "text": [
      "Jobs running for Process:  chirp:develop \n",
      "\n",
      "unity_sds_client.resources.Job(\n",
      "    id=\"3cac81ed-2727-4b5c-9f26-5e50654135a2\",\n",
      "    status=\"running\",\n",
      "    inputs=None\n",
      ")\n",
      "unity_sds_client.resources.Job(\n",
      "    id=\"69d4e1a0-c895-488b-b95d-e88e3facafa2\",\n",
      "    status=\"succeeded\",\n",
      "    inputs=None\n",
      ")\n",
      "unity_sds_client.resources.Job(\n",
      "    id=\"1d47a125-8707-4ec7-bbea-7b8d590a0bb4\",\n",
      "    status=\"failed\",\n",
      "    inputs=None\n",
      ")\n",
      "unity_sds_client.resources.Job(\n",
      "    id=\"5826ad28-cd16-4366-ac85-b8509169403c\",\n",
      "    status=\"succeeded\",\n",
      "    inputs=None\n",
      ")\n",
      "unity_sds_client.resources.Job(\n",
      "    id=\"533ad8c2-f17a-4fb2-8d05-591740a05efc\",\n",
      "    status=\"failed\",\n",
      "    inputs=None\n",
      ")\n",
      "unity_sds_client.resources.Job(\n",
      "    id=\"44668746-cade-48de-9c86-4c647032cc3c\",\n",
      "    status=\"succeeded\",\n",
      "    inputs=None\n",
      ")\n",
      "unity_sds_client.resources.Job(\n",
      "    id=\"44242c23-48a1-47b4-b244-e856743cd61d\",\n",
      "    status=\"succeeded\",\n",
      "    inputs=None\n",
      ")\n",
      "unity_sds_client.resources.Job(\n",
      "    id=\"48b087b5-aff2-4ca0-87ff-4b156d2a5f93\",\n",
      "    status=\"succeeded\",\n",
      "    inputs=None\n",
      ")\n",
      "unity_sds_client.resources.Job(\n",
      "    id=\"944352d9-f7fe-4b8d-9854-8d988f42e809\",\n",
      "    status=\"succeeded\",\n",
      "    inputs=None\n",
      ")\n",
      "unity_sds_client.resources.Job(\n",
      "    id=\"17df459d-ac85-45f6-800c-94a09a145f8f\",\n",
      "    status=\"succeeded\",\n",
      "    inputs=None\n",
      ")\n",
      "unity_sds_client.resources.Job(\n",
      "    id=\"c075f065-5a6e-460b-bc2d-efd90748ab96\",\n",
      "    status=\"succeeded\",\n",
      "    inputs=None\n",
      ")\n",
      "unity_sds_client.resources.Job(\n",
      "    id=\"cf5a4828-ea47-4c9e-8840-067139b5de39\",\n",
      "    status=\"succeeded\",\n",
      "    inputs=None\n",
      ")\n",
      "unity_sds_client.resources.Job(\n",
      "    id=\"ac4485d3-d4ac-4366-9c5d-c6ac3ce2b2c1\",\n",
      "    status=\"succeeded\",\n",
      "    inputs=None\n",
      ")\n",
      "unity_sds_client.resources.Job(\n",
      "    id=\"265699d8-339c-44ff-8055-89cbefc4c590\",\n",
      "    status=\"succeeded\",\n",
      "    inputs=None\n",
      ")\n",
      "unity_sds_client.resources.Job(\n",
      "    id=\"1d6c5471-4bc0-4d64-b1bd-0b89e32ae34c\",\n",
      "    status=\"failed\",\n",
      "    inputs=None\n",
      ")\n",
      "unity_sds_client.resources.Job(\n",
      "    id=\"f67e29e7-d4ab-49c1-881c-5d2726c821ad\",\n",
      "    status=\"succeeded\",\n",
      "    inputs=None\n",
      ")\n",
      "unity_sds_client.resources.Job(\n",
      "    id=\"40463dd6-a03e-4fd6-a893-e266076326ab\",\n",
      "    status=\"succeeded\",\n",
      "    inputs=None\n",
      ")\n",
      "unity_sds_client.resources.Job(\n",
      "    id=\"c1877307-1dd7-4333-a783-aa276e46a815\",\n",
      "    status=\"succeeded\",\n",
      "    inputs=None\n",
      ")\n",
      "unity_sds_client.resources.Job(\n",
      "    id=\"b689bd39-887c-4d7b-8a88-d5d83f6b8c3c\",\n",
      "    status=\"succeeded\",\n",
      "    inputs=None\n",
      ")\n",
      "unity_sds_client.resources.Job(\n",
      "    id=\"afc21cb6-7989-49e0-922c-3333aedb1cb9\",\n",
      "    status=\"succeeded\",\n",
      "    inputs=None\n",
      ")\n",
      "unity_sds_client.resources.Job(\n",
      "    id=\"0c9287b7-3dca-4c3c-8d20-f738c4ff68aa\",\n",
      "    status=\"succeeded\",\n",
      "    inputs=None\n",
      ")\n",
      "unity_sds_client.resources.Job(\n",
      "    id=\"2246b7c1-5b9d-4308-9bab-41817895eb93\",\n",
      "    status=\"succeeded\",\n",
      "    inputs=None\n",
      ")\n",
      "unity_sds_client.resources.Job(\n",
      "    id=\"fe6aefbb-9e8d-4550-9dce-85f430155fcb\",\n",
      "    status=\"succeeded\",\n",
      "    inputs=None\n",
      ")\n",
      "unity_sds_client.resources.Job(\n",
      "    id=\"2e78a485-5898-4a84-b964-e93011284441\",\n",
      "    status=\"failed\",\n",
      "    inputs=None\n",
      ")\n",
      "unity_sds_client.resources.Job(\n",
      "    id=\"6587112b-a99f-4a6a-ad3f-c97937260a7c\",\n",
      "    status=\"succeeded\",\n",
      "    inputs=None\n",
      ")\n",
      "unity_sds_client.resources.Job(\n",
      "    id=\"18fd501e-28aa-4af4-8390-e887f567e877\",\n",
      "    status=\"succeeded\",\n",
      "    inputs=None\n",
      ")\n",
      "unity_sds_client.resources.Job(\n",
      "    id=\"81dd8841-f93c-4682-8080-4799916c4328\",\n",
      "    status=\"succeeded\",\n",
      "    inputs=None\n",
      ")\n",
      "unity_sds_client.resources.Job(\n",
      "    id=\"0cb43d64-281e-4272-8ada-a73c9c99079d\",\n",
      "    status=\"failed\",\n",
      "    inputs=None\n",
      ")\n",
      "unity_sds_client.resources.Job(\n",
      "    id=\"58cb5a95-4699-4cc1-b7e0-6e86e12b01ee\",\n",
      "    status=\"failed\",\n",
      "    inputs=None\n",
      ")\n",
      "unity_sds_client.resources.Job(\n",
      "    id=\"579a9a38-06f3-4d58-aaf7-245e23e60887\",\n",
      "    status=\"failed\",\n",
      "    inputs=None\n",
      ")\n",
      "unity_sds_client.resources.Job(\n",
      "    id=\"570a688f-93bf-4714-bf58-208d54ca223a\",\n",
      "    status=\"failed\",\n",
      "    inputs=None\n",
      ")\n",
      "unity_sds_client.resources.Job(\n",
      "    id=\"8c505b14-25f0-4e4d-8d00-62b4970c1d82\",\n",
      "    status=\"succeeded\",\n",
      "    inputs=None\n",
      ")\n",
      "unity_sds_client.resources.Job(\n",
      "    id=\"63a403ad-f4ba-4bf9-a6b4-8e1a822063b0\",\n",
      "    status=\"succeeded\",\n",
      "    inputs=None\n",
      ")\n",
      "unity_sds_client.resources.Job(\n",
      "    id=\"a31b25aa-8b32-4e20-8f02-a381867e85a7\",\n",
      "    status=\"succeeded\",\n",
      "    inputs=None\n",
      ")\n",
      "unity_sds_client.resources.Job(\n",
      "    id=\"3ce605b1-6abc-415d-b0c2-6a2a5ec62e3a\",\n",
      "    status=\"succeeded\",\n",
      "    inputs=None\n",
      ")\n",
      "unity_sds_client.resources.Job(\n",
      "    id=\"5b13f147-4c7f-4597-87c0-5d6cf6fb97e7\",\n",
      "    status=\"succeeded\",\n",
      "    inputs=None\n",
      ")\n",
      "unity_sds_client.resources.Job(\n",
      "    id=\"49d93e1a-9533-4dc0-a867-5c3acdaf75bd\",\n",
      "    status=\"succeeded\",\n",
      "    inputs=None\n",
      ")\n",
      "unity_sds_client.resources.Job(\n",
      "    id=\"25c788fc-f007-4ee1-bf38-ce75f6c863de\",\n",
      "    status=\"succeeded\",\n",
      "    inputs=None\n",
      ")\n",
      "unity_sds_client.resources.Job(\n",
      "    id=\"cf2e44dc-2b8e-4337-a574-eb47544e1d29\",\n",
      "    status=\"succeeded\",\n",
      "    inputs=None\n",
      ")\n",
      "unity_sds_client.resources.Job(\n",
      "    id=\"a7f1fee4-beb8-4198-b304-8d0a4d6815b4\",\n",
      "    status=\"succeeded\",\n",
      "    inputs=None\n",
      ")\n",
      "unity_sds_client.resources.Job(\n",
      "    id=\"02a9f748-8bab-49e6-9001-e0f49b402d3d\",\n",
      "    status=\"succeeded\",\n",
      "    inputs=None\n",
      ")\n",
      "unity_sds_client.resources.Job(\n",
      "    id=\"5c71555e-9f3d-4518-89b5-2a0283de474a\",\n",
      "    status=\"succeeded\",\n",
      "    inputs=None\n",
      ")\n",
      "unity_sds_client.resources.Job(\n",
      "    id=\"47e4baed-7acf-490f-b710-7e31eafbedf6\",\n",
      "    status=\"succeeded\",\n",
      "    inputs=None\n",
      ")\n",
      "unity_sds_client.resources.Job(\n",
      "    id=\"8e12c7ef-32dd-45b3-ae9a-7ae11fd038d3\",\n",
      "    status=\"succeeded\",\n",
      "    inputs=None\n",
      ")\n",
      "unity_sds_client.resources.Job(\n",
      "    id=\"caad09f6-a6ad-4a09-970d-3a79fac959c8\",\n",
      "    status=\"succeeded\",\n",
      "    inputs=None\n",
      ")\n",
      "unity_sds_client.resources.Job(\n",
      "    id=\"5ad01c91-84d8-4edf-b1a1-643aa6e73d59\",\n",
      "    status=\"succeeded\",\n",
      "    inputs=None\n",
      ")\n",
      "unity_sds_client.resources.Job(\n",
      "    id=\"a2fa69c5-9c47-4676-9422-09360eb43a94\",\n",
      "    status=\"succeeded\",\n",
      "    inputs=None\n",
      ")\n"
     ]
    }
   ],
   "source": [
    "print(\"Jobs running for Process: \", my_process.id, \"\\n\")\n",
    "\n",
    "jobs = process_service.get_jobs(my_process)\n",
    "\n",
    "for job in jobs:\n",
    "    print(job)"
   ]
  },
  {
   "cell_type": "markdown",
   "id": "7198115b-2142-4ac7-8581-b1664b2278e7",
   "metadata": {
    "editable": true,
    "slideshow": {
     "slide_type": ""
    },
    "tags": []
   },
   "source": [
    "# Following Sections are In Progress\n",
    "\n",
    "## Get job results\n",
    "Now that we've monitored the status of a Job, and verified that is has completed, we can retreive information about where the generated data is located. \n",
    "\n",
    "In this example, we will use the predefined Process name, and the Job ID that was returned previously."
   ]
  },
  {
   "cell_type": "markdown",
   "id": "c32a5243-3645-467a-aeec-bd3eba48ed7d",
   "metadata": {},
   "source": [
    "## So... where are the results?\n",
    "\n",
    "Currently the results are not made available to the endpoint, but a future release will include a STAC document of generated files and their locations. For now, the results are written to the `SNDR_SNPP_ATMS_L1B_OUTPUT___1` product type in the Unity system. Again, future releases will allow the specification of the output collection (by name or version)."
   ]
  },
  {
   "cell_type": "markdown",
   "id": "09926e3e-699c-4b05-8611-47df42909088",
   "metadata": {},
   "source": [
    "## Dismiss a job\n",
    "\n",
    "What if after a job was started, it was determined that it is no longer needed? The job can be dismissed as shown in the example below so long as it is still running."
   ]
  },
  {
   "cell_type": "code",
   "execution_count": null,
   "id": "fbc63b7b-0e1c-41a6-bbc4-6526cb251d9a",
   "metadata": {},
   "outputs": [],
   "source": [
    "print(\"{},{}\".format(my_process.id, job.id))\n",
    "response = job.dismiss()\n",
    "\n",
    "print(\"Response: \", response, \"\\n\")"
   ]
  },
  {
   "cell_type": "code",
   "execution_count": null,
   "id": "59e8287c-3677-4b1e-8dd4-66b700bb8e66",
   "metadata": {},
   "outputs": [],
   "source": []
  }
 ],
 "metadata": {
  "kernelspec": {
   "display_name": "Python [conda env:root] *",
   "language": "python",
   "name": "conda-root-py"
  },
  "language_info": {
   "codemirror_mode": {
    "name": "ipython",
    "version": 3
   },
   "file_extension": ".py",
   "mimetype": "text/x-python",
   "name": "python",
   "nbconvert_exporter": "python",
   "pygments_lexer": "ipython3",
   "version": "3.11.6"
  }
 },
 "nbformat": 4,
 "nbformat_minor": 5
}
