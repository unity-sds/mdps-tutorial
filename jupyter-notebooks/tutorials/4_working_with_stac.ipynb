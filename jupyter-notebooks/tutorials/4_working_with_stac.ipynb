{
 "cells": [
  {
   "cell_type": "markdown",
   "id": "0b069562",
   "metadata": {
    "editable": true,
    "slideshow": {
     "slide_type": ""
    },
    "tags": []
   },
   "source": [
    "# Working with STAC\n",
    "\n",
    "STAC is the interface to data from a notebook. In this workbook we will show how to read the content of a STAC file and get the locations of data products for input toa. process. Once the process is run, we will show you how to use the unity_py libraries to write a STAC output.\n",
    "\n",
    "The unity_py library is required for usage. It can be installed by one of the two commands:\n",
    "\n",
    "1. pypi: `pip install unity-sds-client`\n",
    "2. From git: main branch: `python -m pip install git+https://github.com/unity-sds/unity-py.git`\n",
    "3. From git: a specific branch: `python -m pip install git+https://github.com/unity-sds/unity-py.git@develop`\n",
    " "
   ]
  },
  {
   "cell_type": "code",
   "execution_count": 1,
   "id": "deb37e0b-002e-4b6e-90b5-6beec6b29b59",
   "metadata": {
    "editable": true,
    "slideshow": {
     "slide_type": ""
    },
    "tags": []
   },
   "outputs": [],
   "source": [
    "from unity_sds_client.unity_exception import UnityException\n",
    "from unity_sds_client.resources.collection import Collection, Dataset, DataFile"
   ]
  },
  {
   "cell_type": "markdown",
   "id": "a7794977",
   "metadata": {
    "editable": true,
    "slideshow": {
     "slide_type": ""
    },
    "tags": []
   },
   "source": [
    "### Reading in STAC\n",
    "\n",
    "Using the unity_py 'collection' object, read in files from a STAC catalog. The stac catalog should be in an input to the applicaiton you are developing."
   ]
  },
  {
   "cell_type": "code",
   "execution_count": 2,
   "id": "79920e39-4ad0-4926-9078-7cf18d3a7bd5",
   "metadata": {
    "editable": true,
    "slideshow": {
     "slide_type": ""
    },
    "tags": []
   },
   "outputs": [],
   "source": [
    "collection = Collection.from_stac(\"data/SBG-L1B-PRE/catalog.json\")"
   ]
  },
  {
   "cell_type": "code",
   "execution_count": 3,
   "id": "e5349ee0-c17a-4900-bdd5-40499b3d7e34",
   "metadata": {
    "editable": true,
    "slideshow": {
     "slide_type": ""
    },
    "tags": []
   },
   "outputs": [
    {
     "data": {
      "text/plain": [
       "1"
      ]
     },
     "execution_count": 3,
     "metadata": {},
     "output_type": "execute_result"
    }
   ],
   "source": [
    "datasets = collection._datasets\n",
    "len(datasets)"
   ]
  },
  {
   "cell_type": "code",
   "execution_count": 4,
   "id": "3361bc1b-db66-4ab1-9694-32b91ab6df65",
   "metadata": {
    "editable": true,
    "slideshow": {
     "slide_type": ""
    },
    "tags": []
   },
   "outputs": [],
   "source": [
    "# A convenince method for only finding assets with specific \"keys\" (here, data)\n",
    "data_files = collection.data_locations()"
   ]
  },
  {
   "cell_type": "code",
   "execution_count": 5,
   "id": "4cbd35b0-3cda-4354-a55a-a900a84fb06e",
   "metadata": {
    "editable": true,
    "slideshow": {
     "slide_type": ""
    },
    "tags": []
   },
   "outputs": [
    {
     "data": {
      "text/plain": [
       "10"
      ]
     },
     "execution_count": 5,
     "metadata": {},
     "output_type": "execute_result"
    }
   ],
   "source": [
    "len(data_files)"
   ]
  },
  {
   "cell_type": "code",
   "execution_count": 6,
   "id": "c7f4c460-bf87-4ff0-8ff4-ba25bc93e202",
   "metadata": {
    "editable": true,
    "slideshow": {
     "slide_type": ""
    },
    "tags": []
   },
   "outputs": [
    {
     "data": {
      "text/plain": [
       "['/home/jovyan/sounder-sips-tutorial/jupyter-notebooks/tutorials/data/SBG-L1B-PRE/./SISTER_EMIT_L1B_RDN_20231206T160939_001.met.json',\n",
       " '/home/jovyan/sounder-sips-tutorial/jupyter-notebooks/tutorials/data/SBG-L1B-PRE/./SISTER_EMIT_L1B_RDN_20231206T160939_001.hdr',\n",
       " '/home/jovyan/sounder-sips-tutorial/jupyter-notebooks/tutorials/data/SBG-L1B-PRE/./SISTER_EMIT_L1B_RDN_20231206T160939_001_LOC.bin',\n",
       " '/home/jovyan/sounder-sips-tutorial/jupyter-notebooks/tutorials/data/SBG-L1B-PRE/./SISTER_EMIT_L1B_RDN_20231206T160939_001_OBS.bin',\n",
       " '/home/jovyan/sounder-sips-tutorial/jupyter-notebooks/tutorials/data/SBG-L1B-PRE/./SISTER_EMIT_L1B_RDN_20231206T160939_001_LOC.met.json',\n",
       " '/home/jovyan/sounder-sips-tutorial/jupyter-notebooks/tutorials/data/SBG-L1B-PRE/./SISTER_EMIT_L1B_RDN_20231206T160939_001_LOC.hdr',\n",
       " '/home/jovyan/sounder-sips-tutorial/jupyter-notebooks/tutorials/data/SBG-L1B-PRE/./SISTER_EMIT_L1B_RDN_20231206T160939_001.png',\n",
       " '/home/jovyan/sounder-sips-tutorial/jupyter-notebooks/tutorials/data/SBG-L1B-PRE/./SISTER_EMIT_L1B_RDN_20231206T160939_001_OBS.hdr',\n",
       " '/home/jovyan/sounder-sips-tutorial/jupyter-notebooks/tutorials/data/SBG-L1B-PRE/./SISTER_EMIT_L1B_RDN_20231206T160939_001_OBS.met.json',\n",
       " '/home/jovyan/sounder-sips-tutorial/jupyter-notebooks/tutorials/data/SBG-L1B-PRE/./SISTER_EMIT_L1B_RDN_20231206T160939_001.bin']"
      ]
     },
     "execution_count": 6,
     "metadata": {},
     "output_type": "execute_result"
    }
   ],
   "source": [
    "data_files[0:20]"
   ]
  },
  {
   "cell_type": "code",
   "execution_count": 7,
   "id": "f4c8fe80-965b-452e-b6dc-3c9d13f9a85f",
   "metadata": {
    "editable": true,
    "slideshow": {
     "slide_type": ""
    },
    "tags": []
   },
   "outputs": [
    {
     "name": "stdout",
     "output_type": "stream",
     "text": [
      "dataset name: 2023-12-11T22:22:08.874292+00:00\n",
      "dataset name: SISTER_EMIT_L1B_RDN_20231206T160939_001\n",
      "\t/home/jovyan/sounder-sips-tutorial/jupyter-notebooks/tutorials/data/SBG-L1B-PRE/./SISTER_EMIT_L1B_RDN_20231206T160939_001.met.json, roles: [], type: , description: , title: SISTER_EMIT_L1B_RDN_20231206T160939_001.met.json file\n",
      "\t/home/jovyan/sounder-sips-tutorial/jupyter-notebooks/tutorials/data/SBG-L1B-PRE/./SISTER_EMIT_L1B_RDN_20231206T160939_001.hdr, roles: [], type: , description: , title: SISTER_EMIT_L1B_RDN_20231206T160939_001.hdr file\n",
      "\t/home/jovyan/sounder-sips-tutorial/jupyter-notebooks/tutorials/data/SBG-L1B-PRE/./SISTER_EMIT_L1B_RDN_20231206T160939_001_LOC.bin, roles: [], type: , description: , title: SISTER_EMIT_L1B_RDN_20231206T160939_001_LOC.bin file\n",
      "\t/home/jovyan/sounder-sips-tutorial/jupyter-notebooks/tutorials/data/SBG-L1B-PRE/./SISTER_EMIT_L1B_RDN_20231206T160939_001_OBS.bin, roles: [], type: , description: , title: SISTER_EMIT_L1B_RDN_20231206T160939_001_OBS.bin file\n",
      "\t/home/jovyan/sounder-sips-tutorial/jupyter-notebooks/tutorials/data/SBG-L1B-PRE/./SISTER_EMIT_L1B_RDN_20231206T160939_001_LOC.met.json, roles: [], type: , description: , title: SISTER_EMIT_L1B_RDN_20231206T160939_001_LOC.met.json file\n",
      "\t/home/jovyan/sounder-sips-tutorial/jupyter-notebooks/tutorials/data/SBG-L1B-PRE/./SISTER_EMIT_L1B_RDN_20231206T160939_001_LOC.hdr, roles: [], type: , description: , title: SISTER_EMIT_L1B_RDN_20231206T160939_001_LOC.hdr file\n",
      "\t/home/jovyan/sounder-sips-tutorial/jupyter-notebooks/tutorials/data/SBG-L1B-PRE/./SISTER_EMIT_L1B_RDN_20231206T160939_001.png, roles: [], type: , description: , title: SISTER_EMIT_L1B_RDN_20231206T160939_001.png file\n",
      "\t/home/jovyan/sounder-sips-tutorial/jupyter-notebooks/tutorials/data/SBG-L1B-PRE/./SISTER_EMIT_L1B_RDN_20231206T160939_001_OBS.hdr, roles: [], type: , description: , title: SISTER_EMIT_L1B_RDN_20231206T160939_001_OBS.hdr file\n",
      "\t/home/jovyan/sounder-sips-tutorial/jupyter-notebooks/tutorials/data/SBG-L1B-PRE/./SISTER_EMIT_L1B_RDN_20231206T160939_001_OBS.met.json, roles: [], type: , description: , title: SISTER_EMIT_L1B_RDN_20231206T160939_001_OBS.met.json file\n",
      "\t/home/jovyan/sounder-sips-tutorial/jupyter-notebooks/tutorials/data/SBG-L1B-PRE/./SISTER_EMIT_L1B_RDN_20231206T160939_001.bin, roles: [], type: , description: , title: SISTER_EMIT_L1B_RDN_20231206T160939_001.bin file\n"
     ]
    }
   ],
   "source": [
    "for dataset in collection.datasets:\n",
    "    print(f'dataset name: {dataset.data_begin_time}')\n",
    "    print(f'dataset name: {dataset.id}' )\n",
    "    for f in dataset.datafiles:\n",
    "        #print(f)\n",
    "        print(\"\t\" + f.location + \", roles: \" + str(f.roles) + \", type: \" + f.type + \", description: \" + f.description + \", title: \" + f.title)"
   ]
  },
  {
   "cell_type": "code",
   "execution_count": 8,
   "id": "b41911d0-be54-4cc4-88fc-effa43835d0d",
   "metadata": {
    "editable": true,
    "slideshow": {
     "slide_type": ""
    },
    "tags": []
   },
   "outputs": [],
   "source": [
    "# Run my program on this list of files\n",
    "# This is a simple example of calling a program with the data files as inputs.\n",
    "# The outputs of this \"process\" are written to some directory\n",
    "\n",
    "def my_process(data_files):\n",
    "    print(\"Processing your data files...\")\n"
   ]
  },
  {
   "cell_type": "code",
   "execution_count": 9,
   "id": "c62d5cc3-10d3-49c6-93e2-f7232a2ea2fe",
   "metadata": {
    "editable": true,
    "slideshow": {
     "slide_type": ""
    },
    "tags": []
   },
   "outputs": [
    {
     "name": "stdout",
     "output_type": "stream",
     "text": [
      "Processing your data files...\n"
     ]
    }
   ],
   "source": [
    "# Call the process\n",
    "my_process(data_files)\n",
    "\n",
    "# Some additional metadata\n",
    "my_process_version = \"1.0.1\""
   ]
  },
  {
   "cell_type": "markdown",
   "id": "e1cd0ec0",
   "metadata": {
    "editable": true,
    "slideshow": {
     "slide_type": ""
    },
    "tags": []
   },
   "source": [
    "### Output STAC Creation\n",
    "\n",
    "The output of `my_process` is, obstensibly, some set of outputs. The output directory should be configurable and passed in, but for this example let's assume they are written to `/unity/ads/outputs/SBG-L2A-RESAMPLE`.\n",
    "\n",
    "We must write a stac file so that followon tasks work appropriately within unity. Some follow on tasks would be \"cataloging\" or \"persisting\" the data files from the output directory to something persisten (e.g. S3). Without staging these out, they only exist on the instance that _generated_ the products; in a scalable system, these products on different machiens need to be stored in a persistent location.\n",
    "\n",
    "The unity_py library allows for the creation of STAC files based on the data you've created. Since some metadata are specific to the products being generated, it is the responsiblity of the project to generate \"good enough\" metadata for use in the unity system.\n",
    "\n",
    "Below is an example of creating STAC from a set of output files. \n",
    "\n",
    " - Collection: A collection of products. \n",
    " - Dataset: metadata and files that correspond to some space/time measurement. this is the same as a \"granule\"\n",
    " - DataFile: a file representing some part of the dataset. Data, metadata, image, etc are all valid types. The 'type' must be unique when converting to STAC.\n"
   ]
  },
  {
   "cell_type": "markdown",
   "id": "04ec1e7b",
   "metadata": {
    "editable": true,
    "slideshow": {
     "slide_type": ""
    },
    "tags": []
   },
   "source": [
    "### A note about output data\n",
    "\n",
    "Because data are transferred between systems and disks, \"absolute\" paths are not ideal in the STAC catalog. the translation from absolute to relative paths is handled automatically by the unity_py catalog with the following stipulations:\n",
    "\n",
    "* URIs are not made relative; if you create a DataFile with a location like `https:`, `http:`, or `s3:` these will not be converted to relative paths.\n",
    "* If a relative path is given as the location of a DataFile, it will not be modified\n",
    "* If a DataFile has an absolute path (e.g. /data/users/mydata...), it will be converted to a relative path IF AND ONLY IF the Collection.to_stac method is called with a path that includes the asset. So if `Collection.to_stac(collection, /data/users/mydata)` is used as the STAC location, the above example datafile will be made relateive. if `Collection.to_stac(collection, /data/users/my_other_data)` is used, it will not be converted to relative paths."
   ]
  },
  {
   "cell_type": "code",
   "execution_count": 14,
   "id": "546d380c-93c9-4c00-b979-96539be75561",
   "metadata": {
    "editable": true,
    "slideshow": {
     "slide_type": ""
    },
    "tags": []
   },
   "outputs": [
    {
     "name": "stdout",
     "output_type": "stream",
     "text": [
      "/home/jovyan/sounder-sips-tutorial/jupyter-notebooks/tutorials/data/SBG-L2A-RESAMPLE/SISTER_EMIT_L2A_RSRFL_20231206T160939_000.json\n"
     ]
    }
   ],
   "source": [
    "from pathlib import Path\n",
    "import datetime\n",
    "import os\n",
    "\n",
    "output_directory = str(Path(\"data/SBG-L2A-RESAMPLE\").resolve())\n",
    "collection  = Collection(\"my_process_output_collection\")\n",
    "\n",
    "# Create a Dataset for the collection\n",
    "dataset_name = \"SISTER_EMIT_L2A_RSRFL_20231206T160939_000\"\n",
    "dataset_start_time = \"2023-06-15T01:31:12.467113Z\"\n",
    "dataset_end_time = \"2023-06-15T01:36:12.467113Z\"\n",
    "dataset_create_time = datetime.datetime.utcnow().replace(tzinfo=datetime.timezone.utc).isoformat()\n",
    "dataset = Dataset(dataset_name, collection.collection_id, dataset_start_time, dataset_end_time, dataset_create_time)\n",
    "dataset.add_property(\"tag\", \"reprocessing\")\n",
    "\n",
    "for path in Path('data/SBG-L2A-RESAMPLE').rglob('*'):\n",
    "    #type, location, roles = [], title = \"\", description = \"\" \n",
    "    if str(path.resolve()).endswith(\".bin\"):\n",
    "        dataset.add_data_file(DataFile(\"binary\",str(path.resolve()), [\"data\"]))\n",
    "    elif str(path.resolve()).endswith(\".png\"):\n",
    "        dataset.add_data_file(DataFile(\"image/png\",str(path.resolve()), [\"browse\"]))\n",
    "    else:\n",
    "        dataset.add_data_file(DataFile(None,str(path.resolve()), [\"metadata\"]))\n",
    "        \n",
    "#Add the STAC file we are creating\n",
    "dataset.add_data_file(DataFile(\"text/json\",os.path.join(output_directory, dataset_name + \".json\"), [\"metadata\"]))\n",
    "print(os.path.join(output_directory, dataset_name + \".json\"))\n",
    "    #Add the dataset to the collection\n",
    "collection.add_dataset(dataset)\n",
    "\n"
   ]
  },
  {
   "cell_type": "code",
   "execution_count": 15,
   "id": "ba9d2e8a-3f84-4dd2-a295-1773aca3f8ef",
   "metadata": {
    "editable": true,
    "slideshow": {
     "slide_type": ""
    },
    "tags": []
   },
   "outputs": [
    {
     "data": {
      "text/plain": [
       "1"
      ]
     },
     "execution_count": 15,
     "metadata": {},
     "output_type": "execute_result"
    }
   ],
   "source": [
    "len(collection._datasets)"
   ]
  },
  {
   "cell_type": "code",
   "execution_count": 16,
   "id": "83193da1-f86c-4b8e-9734-e812039a91d3",
   "metadata": {
    "editable": true,
    "slideshow": {
     "slide_type": ""
    },
    "tags": []
   },
   "outputs": [],
   "source": [
    "Collection.to_stac(collection, output_directory)"
   ]
  },
  {
   "cell_type": "markdown",
   "id": "967cde22",
   "metadata": {
    "editable": true,
    "slideshow": {
     "slide_type": ""
    },
    "tags": []
   },
   "source": [
    "The output of the above command will be a catalog.json file at `/unity/ads/scratch/altinok/tiling_output/catalog.json`. A corresponding item file will be created for each dataset (e.g. `SNDR_tile_2016_s320_S19p25_W055p00_L1_AQ_v1_D_2305241684955813.nc.json`) in the same directory"
   ]
  },
  {
   "cell_type": "code",
   "execution_count": 17,
   "id": "a839d08c-3b7a-427b-bd15-14f225db554c",
   "metadata": {
    "editable": true,
    "slideshow": {
     "slide_type": ""
    },
    "tags": []
   },
   "outputs": [],
   "source": [
    "new_collection = Collection.from_stac(output_directory+\"/catalog.json\")"
   ]
  },
  {
   "cell_type": "code",
   "execution_count": 18,
   "id": "13b394ab-dc7b-422f-9995-1fd83e7955ca",
   "metadata": {
    "editable": true,
    "slideshow": {
     "slide_type": ""
    },
    "tags": []
   },
   "outputs": [
    {
     "name": "stdout",
     "output_type": "stream",
     "text": [
      "dataset name: 2023-06-15T01:31:12.467113Z\n",
      "dataset name: SISTER_EMIT_L2A_RSRFL_20231206T160939_000\n",
      "\t/home/jovyan/sounder-sips-tutorial/jupyter-notebooks/tutorials/data/SBG-L2A-RESAMPLE/./SISTER_EMIT_L2A_RSRFL_20231206T160939_000.hdr, roles: ['metadata'], type: , description: , title: None file\n",
      "\t/home/jovyan/sounder-sips-tutorial/jupyter-notebooks/tutorials/data/SBG-L2A-RESAMPLE/./SISTER_EMIT_L2A_RSRFL_20231206T160939_000_UNC.bin, roles: ['data'], type: , description: , title: binary file\n",
      "\t/home/jovyan/sounder-sips-tutorial/jupyter-notebooks/tutorials/data/SBG-L2A-RESAMPLE/./SISTER_EMIT_L2A_RSRFL_20231206T160939_000_UNC.hdr, roles: ['metadata'], type: , description: , title: None file\n",
      "\t/home/jovyan/sounder-sips-tutorial/jupyter-notebooks/tutorials/data/SBG-L2A-RESAMPLE/./SISTER_EMIT_L2A_RSRFL_20231206T160939_000.bin, roles: ['data'], type: , description: , title: binary file\n",
      "\t/home/jovyan/sounder-sips-tutorial/jupyter-notebooks/tutorials/data/SBG-L2A-RESAMPLE/./SISTER_EMIT_L2A_RSRFL_20231206T160939_000.log, roles: ['metadata'], type: , description: , title: None file\n",
      "\t/home/jovyan/sounder-sips-tutorial/jupyter-notebooks/tutorials/data/SBG-L2A-RESAMPLE/./SISTER_EMIT_L2A_RSRFL_20231206T160939_000.png, roles: ['browse'], type: , description: , title: image/png file\n",
      "\t/home/jovyan/sounder-sips-tutorial/jupyter-notebooks/tutorials/data/SBG-L2A-RESAMPLE/./SISTER_EMIT_L2A_RSRFL_20231206T160939_000.json, roles: ['metadata'], type: , description: , title: text/json file\n"
     ]
    }
   ],
   "source": [
    "for dataset in new_collection.datasets:\n",
    "    print(f'dataset name: {dataset.data_begin_time}')\n",
    "    print(f'dataset name: {dataset.id}' )\n",
    "    for f in dataset.datafiles:\n",
    "        #print(f)\n",
    "        print(\"\t\" + f.location + \", roles: \" + str(f.roles) + \", type: \" + f.type + \", description: \" + f.description + \", title: \" + f.title)"
   ]
  },
  {
   "cell_type": "code",
   "execution_count": null,
   "id": "c112533e-80d8-4d70-8e04-0f0ef75e83af",
   "metadata": {
    "editable": true,
    "slideshow": {
     "slide_type": ""
    },
    "tags": []
   },
   "outputs": [],
   "source": []
  },
  {
   "cell_type": "code",
   "execution_count": null,
   "id": "4fca228f-bc16-429d-a0dd-c4ba163c1b8f",
   "metadata": {},
   "outputs": [],
   "source": []
  }
 ],
 "metadata": {
  "kernelspec": {
   "display_name": "Python [conda env:root] *",
   "language": "python",
   "name": "conda-root-py"
  },
  "language_info": {
   "codemirror_mode": {
    "name": "ipython",
    "version": 3
   },
   "file_extension": ".py",
   "mimetype": "text/x-python",
   "name": "python",
   "nbconvert_exporter": "python",
   "pygments_lexer": "ipython3",
   "version": "3.11.6"
  }
 },
 "nbformat": 4,
 "nbformat_minor": 5
}
