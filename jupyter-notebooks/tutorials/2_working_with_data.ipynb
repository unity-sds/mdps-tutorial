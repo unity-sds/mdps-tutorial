{
 "cells": [
  {
   "cell_type": "markdown",
   "id": "3be345ad-b008-45c6-b481-46888d2d2ebc",
   "metadata": {
    "editable": true,
    "slideshow": {
     "slide_type": ""
    },
    "tags": []
   },
   "source": [
    "# Working with Data\n",
    "\n",
    "The intent of this tutorial is to help familiarize yourself with browsing for data that will be used along with an application to generate data by submitting a job. Job submission will be covered in the next tutorial. Run each cell in order (shift-enter). The notes will indicate when you need to edit code to customize things (e.g., to indicate a data collection)vs. being prompted by running the cell (e.g. for your username and password)."
   ]
  },
  {
   "cell_type": "code",
   "execution_count": 1,
   "id": "93e43227-c229-4ed4-a514-9293eda6c4f6",
   "metadata": {
    "editable": true,
    "slideshow": {
     "slide_type": ""
    },
    "tags": []
   },
   "outputs": [],
   "source": [
    "import json\n",
    "from IPython.display import JSON\n",
    "\n",
    "from unity_sds_client.unity import Unity\n",
    "from unity_sds_client.unity import UnityEnvironments\n",
    "from unity_sds_client.unity_session import UnitySession\n",
    "from unity_sds_client.unity_services import UnityServices as services\n",
    "from unity_sds_client.resources.collection import Collection"
   ]
  },
  {
   "cell_type": "code",
   "execution_count": 2,
   "id": "f848cd0d-f493-427f-b8be-6dfbed2b3213",
   "metadata": {
    "editable": true,
    "slideshow": {
     "slide_type": ""
    },
    "tags": []
   },
   "outputs": [
    {
     "name": "stdin",
     "output_type": "stream",
     "text": [
      "Please enter your Unity username:  gangl\n",
      "Please enter your Unity password:  ········\n"
     ]
    }
   ],
   "source": [
    "# We will set the environment to 'DEV' here but this should be set to test or prod eventually.\n",
    "s = Unity(UnityEnvironments.TEST)\n",
    "# set the venue for interacting with venue specific services\n",
    "# if your venue id is a single string, use the following"
   ]
  },
  {
   "cell_type": "markdown",
   "id": "1a128652-a73b-4b9c-93ce-5f4147d73c32",
   "metadata": {
    "editable": true,
    "slideshow": {
     "slide_type": ""
    },
    "tags": []
   },
   "source": [
    "## List Available Data Collections in the Unity System\n",
    "\n",
    "Data is organized into Collections. Any particular data file will be in at least one Collection."
   ]
  },
  {
   "cell_type": "code",
   "execution_count": 3,
   "id": "a8e1ffbd-ee53-497b-8c89-ce9929263e4d",
   "metadata": {
    "editable": true,
    "slideshow": {
     "slide_type": ""
    },
    "tags": []
   },
   "outputs": [
    {
     "name": "stdout",
     "output_type": "stream",
     "text": [
      "urn:nasa:unity:unity:test:SBG-L2B_VEGBIOCHEM___1\n",
      "urn:nasa:unity:unity:test:SBG-L2B_FRCOV___1\n",
      "urn:nasa:unity:unity:test:SBG-L2A_CORFL___1\n",
      "urn:nasa:unity:unity:test:SBG-L2A_RSRFL___1\n",
      "urn:nasa:unity:unity:test:SBG-L2A_RFL___1\n",
      "urn:nasa:unity:unity:test:SBG-L1B_PRE___1\n",
      "urn:nasa:unity:uds_local_test:TEST1:NEW_COLLECTION_EXAMPLE_L1B___NGA9\n",
      "urn:nasa:unity:ssips:TEST1:CHRP_16_DAY_REBIN___NGA3\n",
      "urn:nasa:unity:ssips:TEST1:NEW_COLLECTION_EXAMPLE_L1B___NGA3\n",
      "urn:nasa:unity:ssips:TEST1:SIPS_COLLECTION_ALTINOK___6\n"
     ]
    }
   ],
   "source": [
    "dataManager = s.client(services.DATA_SERVICE)\n",
    "collections = dataManager.get_collections(limit=100)\n",
    "for c in collections:\n",
    "    print(c.collection_id)\n"
   ]
  },
  {
   "cell_type": "markdown",
   "id": "3bf2aade-b56a-40b1-bd87-44519c3989c7",
   "metadata": {},
   "source": [
    "## Given a collection (above), List the files within that collection\n",
    "\n",
    "Executing this cell will retrieve all the files in a Collection defined by the data_set variable. Then it will print out the name and href location of each (up to a limit defined in this code block).\n",
    "\n",
    "To see a different data Collection, change the data_set variable to one of the other Collections you found in the step above. If you would like to limit your query to something other than 100 files, change the value in the limit parameter."
   ]
  },
  {
   "cell_type": "code",
   "execution_count": 4,
   "id": "1bb34cc9-eaae-4efd-82c0-6f33043b6207",
   "metadata": {
    "editable": true,
    "slideshow": {
     "slide_type": ""
    },
    "tags": []
   },
   "outputs": [
    {
     "name": "stdout",
     "output_type": "stream",
     "text": [
      "dataset name: 2023-08-10T03:41:01Z\n",
      "dataset name: urn:nasa:unity:unity:test:SBG-L1B_PRE___1:SISTER_EMIT_L1B_RDN_20230810T034101_001\n",
      "unity_sds_client.resources.DataFile(location=s3://sps-test-ds-storage/urn:nasa:unity:unity:test:SBG-L1B_PRE___1/urn:nasa:unity:unity:test:SBG-L1B_PRE___1:SISTER_EMIT_L1B_RDN_20230810T034101_001/SISTER_EMIT_L1B_RDN_20230810T034101_001.cmr.xml)\n",
      "unity_sds_client.resources.DataFile(location=s3://sps-test-ds-storage/urn:nasa:unity:unity:test:SBG-L1B_PRE___1/urn:nasa:unity:unity:test:SBG-L1B_PRE___1:SISTER_EMIT_L1B_RDN_20230810T034101_001/SISTER_EMIT_L1B_RDN_20230810T034101_001.json)\n",
      "unity_sds_client.resources.DataFile(location=s3://sps-test-ds-storage/urn:nasa:unity:unity:test:SBG-L1B_PRE___1/urn:nasa:unity:unity:test:SBG-L1B_PRE___1:SISTER_EMIT_L1B_RDN_20230810T034101_001/SISTER_EMIT_L1B_RDN_20230810T034101_001.bin)\n",
      "unity_sds_client.resources.DataFile(location=s3://sps-test-ds-storage/urn:nasa:unity:unity:test:SBG-L1B_PRE___1/urn:nasa:unity:unity:test:SBG-L1B_PRE___1:SISTER_EMIT_L1B_RDN_20230810T034101_001/SISTER_EMIT_L1B_RDN_20230810T034101_001.hdr)\n",
      "unity_sds_client.resources.DataFile(location=s3://sps-test-ds-storage/urn:nasa:unity:unity:test:SBG-L1B_PRE___1/urn:nasa:unity:unity:test:SBG-L1B_PRE___1:SISTER_EMIT_L1B_RDN_20230810T034101_001/SISTER_EMIT_L1B_RDN_20230810T034101_001_LOC.bin)\n",
      "unity_sds_client.resources.DataFile(location=s3://sps-test-ds-storage/urn:nasa:unity:unity:test:SBG-L1B_PRE___1/urn:nasa:unity:unity:test:SBG-L1B_PRE___1:SISTER_EMIT_L1B_RDN_20230810T034101_001/SISTER_EMIT_L1B_RDN_20230810T034101_001_LOC.hdr)\n",
      "unity_sds_client.resources.DataFile(location=s3://sps-test-ds-storage/urn:nasa:unity:unity:test:SBG-L1B_PRE___1/urn:nasa:unity:unity:test:SBG-L1B_PRE___1:SISTER_EMIT_L1B_RDN_20230810T034101_001/SISTER_EMIT_L1B_RDN_20230810T034101_001_OBS.bin)\n",
      "unity_sds_client.resources.DataFile(location=s3://sps-test-ds-storage/urn:nasa:unity:unity:test:SBG-L1B_PRE___1/urn:nasa:unity:unity:test:SBG-L1B_PRE___1:SISTER_EMIT_L1B_RDN_20230810T034101_001/SISTER_EMIT_L1B_RDN_20230810T034101_001_OBS.hdr)\n",
      "unity_sds_client.resources.DataFile(location=s3://sps-test-ds-storage/urn:nasa:unity:unity:test:SBG-L1B_PRE___1/urn:nasa:unity:unity:test:SBG-L1B_PRE___1:SISTER_EMIT_L1B_RDN_20230810T034101_001/SISTER_EMIT_L1B_RDN_20230810T034101_001_LOC.met.json)\n",
      "unity_sds_client.resources.DataFile(location=s3://sps-test-ds-storage/urn:nasa:unity:unity:test:SBG-L1B_PRE___1/urn:nasa:unity:unity:test:SBG-L1B_PRE___1:SISTER_EMIT_L1B_RDN_20230810T034101_001/SISTER_EMIT_L1B_RDN_20230810T034101_001_OBS.met.json)\n",
      "unity_sds_client.resources.DataFile(location=s3://sps-test-ds-storage/urn:nasa:unity:unity:test:SBG-L1B_PRE___1/urn:nasa:unity:unity:test:SBG-L1B_PRE___1:SISTER_EMIT_L1B_RDN_20230810T034101_001/SISTER_EMIT_L1B_RDN_20230810T034101_001.met.json)\n",
      "unity_sds_client.resources.DataFile(location=s3://sps-test-ds-storage/urn:nasa:unity:unity:test:SBG-L1B_PRE___1/urn:nasa:unity:unity:test:SBG-L1B_PRE___1:SISTER_EMIT_L1B_RDN_20230810T034101_001/SISTER_EMIT_L1B_RDN_20230810T034101_001.png)\n"
     ]
    }
   ],
   "source": [
    "collection_id = \"urn:nasa:unity:unity:test:SBG-L1B_PRE___1\"\n",
    "cd = dataManager.get_collection_data(Collection(collection_id), limit=100, filter=\"updated >= '2024-02-25T00:00:00Z' and updated <= '2025-02-26T23:59:59Z'\")\n",
    "for dataset in cd:\n",
    "    print(f'dataset name: {dataset.data_begin_time}')\n",
    "    print(f'dataset name: {dataset.id}' )\n",
    "    for f in dataset.datafiles:\n",
    "        print(f)\n",
    "        #print(\"\t\" + f.location + \", roles: \" + str(f.roles) + \", type: \" + f.type + \", description: \" + f.description + \", title: \" + f.title)"
   ]
  },
  {
   "cell_type": "markdown",
   "id": "540ada15-6baf-438d-8da4-8703ae531267",
   "metadata": {},
   "source": [
    "## Get a Token!\n",
    "\n",
    "For some operations, its helpful to get the token that allows you to communicate with the unity services. This token can be used in curl commands or other commands outside of the unity-py ecosystem."
   ]
  },
  {
   "cell_type": "code",
   "execution_count": 5,
   "id": "51b2c071-e398-4ce8-afe7-70fd27ee0736",
   "metadata": {},
   "outputs": [],
   "source": [
    "token = s._session.get_auth().get_token()"
   ]
  },
  {
   "cell_type": "markdown",
   "id": "3ca3fad2-e9ec-4aaa-b623-c18078cc7266",
   "metadata": {},
   "source": [
    "## Create a Collection"
   ]
  },
  {
   "cell_type": "code",
   "execution_count": 6,
   "id": "faef8b8d-db2c-49c5-8d3a-b0d56754605e",
   "metadata": {},
   "outputs": [],
   "source": [
    "# To create a collection, we are required to set the project and venue to which the collection will belong.\n",
    "s.set_project(\"unity\")\n",
    "s.set_venue(\"test\")\n",
    "dataManager = s.client(services.DATA_SERVICE)\n",
    "\n",
    "# All collection ids follow the pattern: urn:nasa:unity:{project}:{venue}:{collection_name}____{version}.\n",
    "collection_id = \"urn:nasa:unity:unity:test:my-awesome-collection___1\"\n",
    "dataManager.create_collection(Collection(collection_id))"
   ]
  },
  {
   "cell_type": "markdown",
   "id": "9ded0f11-bd22-4eac-8190-ef20b0a925eb",
   "metadata": {},
   "source": [
    "## View recently created collection\n",
    "\n",
    "This is an asynchronous operation, so there may be a delay in the request for a collection creation and when it shows up in the response.\n"
   ]
  },
  {
   "cell_type": "code",
   "execution_count": 10,
   "id": "927a1db4-e112-4657-9b4f-cec6334b39fa",
   "metadata": {},
   "outputs": [
    {
     "name": "stdout",
     "output_type": "stream",
     "text": [
      "urn:nasa:unity:unity:test:my-awesome-collection___1\n"
     ]
    }
   ],
   "source": [
    "dataManager = s.client(services.DATA_SERVICE)\n",
    "collections = dataManager.get_collections()\n",
    "for c in collections:\n",
    "    if c.collection_id ==  collection_id:\n",
    "        print(c.collection_id)"
   ]
  },
  {
   "cell_type": "markdown",
   "source": [
    "## Define Custom Metadata Fields\n",
    "\n",
    "Custom metadata fields can be defined for a given project and venue. The metadata fields can then be used as additional properties in the STAC item file associated with the data. Note that all previously defined custom metadata fields must be included in the call to define_custom_metadata.\n"
   ],
   "metadata": {
    "collapsed": false
   }
  },
  {
   "cell_type": "code",
   "execution_count": null,
   "outputs": [],
   "source": [
    "# To define custom metadata, we are required to set the project and venue.\n",
    "s.set_project(\"unity\")\n",
    "s.set_venue(\"test\")\n",
    "dataManager = s.client(services.DATA_SERVICE)\n",
    "dataManager.define_custom_metadata({\n",
    "  \"tag\": {\n",
    "    \"type\": \"keyword\"\n",
    "  },\n",
    "  \"percent_cloud_cover\": {\n",
    "    \"type\": \"double\"\n",
    "  }\n",
    "})"
   ],
   "metadata": {
    "collapsed": false
   }
  },
  {
   "cell_type": "markdown",
   "source": [
    "## Credential-less data download\n",
    "\n",
    "When accessing data stores within the **same venue**, you'll be able to access or download data from S3 without credentials.\n"
   ],
   "metadata": {
    "collapsed": false
   }
  },
  {
   "cell_type": "code",
   "execution_count": 11,
   "id": "620a4e4e",
   "metadata": {
    "editable": true,
    "slideshow": {
     "slide_type": ""
    },
    "tags": []
   },
   "outputs": [
    {
     "name": "stdout",
     "output_type": "stream",
     "text": [
      "Requirement already satisfied: boto3 in /opt/conda/lib/python3.11/site-packages (1.34.34)\n",
      "Requirement already satisfied: botocore<1.35.0,>=1.34.34 in /opt/conda/lib/python3.11/site-packages (from boto3) (1.34.34)\n",
      "Requirement already satisfied: jmespath<2.0.0,>=0.7.1 in /opt/conda/lib/python3.11/site-packages (from boto3) (1.0.1)\n",
      "Requirement already satisfied: s3transfer<0.11.0,>=0.10.0 in /opt/conda/lib/python3.11/site-packages (from boto3) (0.10.0)\n",
      "Requirement already satisfied: python-dateutil<3.0.0,>=2.1 in /opt/conda/lib/python3.11/site-packages (from botocore<1.35.0,>=1.34.34->boto3) (2.8.2)\n",
      "Requirement already satisfied: urllib3<2.1,>=1.25.4 in /opt/conda/lib/python3.11/site-packages (from botocore<1.35.0,>=1.34.34->boto3) (1.26.18)\n",
      "Requirement already satisfied: six>=1.5 in /opt/conda/lib/python3.11/site-packages (from python-dateutil<3.0.0,>=2.1->botocore<1.35.0,>=1.34.34->boto3) (1.16.0)\n"
     ]
    }
   ],
   "source": [
    "import sys\n",
    "!{sys.executable} -m pip install boto3\n",
    "import boto3"
   ]
  },
  {
   "cell_type": "code",
   "execution_count": 12,
   "id": "5c6a2837-fb5a-4467-94e5-a85f8659506e",
   "metadata": {
    "editable": true,
    "slideshow": {
     "slide_type": ""
    },
    "tags": []
   },
   "outputs": [],
   "source": [
    "s3 = boto3.client('s3')\n",
    "#s3://ssips-test-ds-storage-reproc/urn:nasa:unity:ssips:TEST1:CHRP_16_DAY_REBIN___1/urn:nasa:unity:ssips:TEST1:CHRP_16_DAY_REBIN___1:SNDR_tile_2016_s320_N16p50_E120p00_L1_AQ_v1_D_2311021698943223.nc/SNDR_tile_2016_s320_N16p50_E120p00_L1_AQ_v1_D_2311021698943223.nc\n",
    "s3.download_file('sps-test-ds-storage', 'urn:nasa:unity:unity:test:SBG-L1B_PRE___1/urn:nasa:unity:unity:test:SBG-L1B_PRE___1:SISTER_EMIT_L1B_RDN_20230810T034101_001/SISTER_EMIT_L1B_RDN_20230810T034101_001.hdr', \"file.hdr\")"
   ]
  },
  {
   "cell_type": "markdown",
   "id": "f787006e-51ae-4e16-bb13-545564591e78",
   "metadata": {},
   "source": [
    "It doesn't end there. If you're more comfortable in a terminal, you can open up a terminal and explore the S3 bucket using the awscli:\n",
    "\n",
    "```\n",
    "aws s3 ls sps-test-ds-storage\n",
    "```"
   ]
  },
  {
   "cell_type": "markdown",
   "id": "a369e43f-728e-48d6-8335-c1ee9659d2ec",
   "metadata": {},
   "source": [
    "## Add data files to a collection - Coming soon\n",
    "\n",
    "There are a number of use cases where a user wants to catalog datafiles in S3 for various reason. One might be to share or persist some work. Another might be to upload auxiliary data for use in the processing system instead of bundling it with ones code (e.g. your code needs access to multi-GB climatolgy or models). The following commands assumes that data exists on S3, and that we want to register that in the unity data catalog.\n",
    "\n",
    "Data files are added via STAC catalogs. Below we will upload several files, create a stac entry for them, and then request they be _cataloged_ in the system. Within unity, the creation/storage of a file and the catalogging of that file are spearate events. This may change in the future, but this offers some flexibility for transient files currently."
   ]
  },
  {
   "cell_type": "code",
   "execution_count": null,
   "id": "b3fe510a-b236-43e1-b2f9-e451a3f91d2a",
   "metadata": {},
   "outputs": [],
   "source": [
    "# The container we will publish\n",
    "stac_features = {\n",
    "  \"provider_id\": \"unity\",\n",
    "  \"features\": [ ]\n",
    "}\n",
    "### this is where we add the stac item we want to catalog. note- THERE MUST EXIST an asset that is a stac formatted item with the \"metadata\" asset role. In the file attached, we have:\n",
    "# \"SISTER_EMIT_L1B_RDN_20230810T034101_001.json\": {\n",
    "#           \"href\": \"s3://sps-test-ds-storage/urn:nasa:unity:unity:test:SBG-L1B_PRE___1/urn:nasa:unity:unity:test:SBG-L1B_PRE___1:SISTER_EMIT_L1B_RDN_20230810T034101_001/SISTER_EMIT_L1B_RDN_20230810T034101_001.json\",\n",
    "#           \"title\": \"text/json file\",\n",
    "#           \"description\": \"\",\n",
    "#           \"roles\": [\n",
    "#             \"metadata\"\n",
    "#           ]\n",
    "#         }\n",
    "\n",
    "#The above file is read by the ingest mechanisms to create entries in the metadata catalog. it's essentially the _same_ file we are sending now.\n",
    "\n",
    "with open('data/SBG-L1B-PRE/feature.json') as f:\n",
    "  json_feature = json.load(f)\n",
    "  stac_features['features'].append(json_feature)\n"
   ]
  },
  {
   "cell_type": "code",
   "execution_count": null,
   "id": "029d5757-8c8c-4934-849f-d8740c2b6649",
   "metadata": {},
   "outputs": [],
   "source": [
    "base_url = s._session.get_unity_href()\n",
    "url = f'{base_url}am-uds-dapa/collections'\n",
    "header = {\n",
    "            'Authorization': f'Bearer {token}',\n",
    "            'Content-Type': 'application/json',\n",
    "        }\n",
    "# print(url)\n",
    "response = requests.put(url=url, headers=header, data=json.dumps(stac_features))"
   ]
  },
  {
   "cell_type": "code",
   "execution_count": null,
   "id": "b567649a-9272-416b-bf58-2dc275f2434c",
   "metadata": {},
   "outputs": [],
   "source": [
    "print(response)"
   ]
  },
  {
   "cell_type": "markdown",
   "id": "e81ee1e1-c485-45c2-9074-29c5c3d935fc",
   "metadata": {
    "editable": true,
    "slideshow": {
     "slide_type": ""
    },
    "tags": []
   },
   "source": [
    "The file now should appear in the directory tree to the left in jupyter"
   ]
  }
 ],
 "metadata": {
  "kernelspec": {
   "display_name": "Python [conda env:root] *",
   "language": "python",
   "name": "conda-root-py"
  },
  "language_info": {
   "codemirror_mode": {
    "name": "ipython",
    "version": 3
   },
   "file_extension": ".py",
   "mimetype": "text/x-python",
   "name": "python",
   "nbconvert_exporter": "python",
   "pygments_lexer": "ipython3",
   "version": "3.11.6"
  }
 },
 "nbformat": 4,
 "nbformat_minor": 5
}
