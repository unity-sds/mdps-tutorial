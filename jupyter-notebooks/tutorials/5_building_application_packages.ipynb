{
 "cells": [
  {
   "cell_type": "markdown",
   "id": "06d1e842-8f93-4611-a636-9d5b61d7db3d",
   "metadata": {},
   "source": [
    "# Application Package Builds\n",
    "\n",
    "The process of turngin your notebook into a runable application package is described below. This requires the repository in which your applicaiton package is being built, as well as an access token to call the service. These build command will be integrated into unity_py in the future."
   ]
  },
  {
   "cell_type": "code",
   "execution_count": 1,
   "id": "35953442-9689-4f04-b733-ba46eb0887a0",
   "metadata": {},
   "outputs": [],
   "source": [
    "import requests\n",
    "\n",
    "from unity_sds_client.unity import Unity\n",
    "from unity_sds_client.unity import UnityEnvironments\n",
    "from unity_sds_client.unity_services import UnityServices as services\n",
    "\n"
   ]
  },
  {
   "cell_type": "markdown",
   "id": "4ec41929-35e3-4e3a-a9f7-cd11ddfac113",
   "metadata": {},
   "source": [
    "For now, we will use the app-package builder in the development environment. So we need to get a token that works in that envionrment"
   ]
  },
  {
   "cell_type": "code",
   "execution_count": 2,
   "id": "92f2f0e6-e761-4152-8d40-0a80edb6f552",
   "metadata": {},
   "outputs": [],
   "source": [
    "# if you're reading this as a user, you probably have a 'TEST' or 'PROD' user account. This will be updated to work though unity-py directly.\n",
    "s = Unity(UnityEnvironments.PROD)"
   ]
  },
  {
   "cell_type": "markdown",
   "id": "178e0cfa-defd-4c84-b2cf-60fb4b64ae0d",
   "metadata": {},
   "source": [
    "We need the (publicaly acessible) repository that we would like to build. If you want to build a private repository, or a repository that is not publicly accessible, then you will need to build this on your own with the app-pack-generator. For details on manually building an application package, please see https://unity-sds.gitbook.io/docs/mdps-overview/tutorials/algorithms-and-algorithm-development/packaging-an-algorithm#manually-building-the-application-package."
   ]
  },
  {
   "cell_type": "code",
   "execution_count": 3,
   "id": "a5476227-ebf5-4b57-896b-1bee2ad5944c",
   "metadata": {},
   "outputs": [],
   "source": [
    "clone_url = \"https://github.com/mike-gangl/unity-example-application-mike-gangl\""
   ]
  },
  {
   "cell_type": "code",
   "execution_count": 4,
   "id": "bfa6ddbc-9a2f-4e5b-b0fa-6283708a0cf7",
   "metadata": {},
   "outputs": [],
   "source": [
    "app_service = s.client(services.APPLICATION_SERVICE)\n",
    "# app_service._debug = True - only if you want to see very chatty information about headers and stuff."
   ]
  },
  {
   "cell_type": "code",
   "execution_count": 6,
   "id": "35139570-a5e3-42f7-b45d-4687eb63ca19",
   "metadata": {},
   "outputs": [
    {
     "data": {
      "text/plain": [
       "AdsAcbMcpCloneGet200Response(clone_url='https://github.com/mike-gangl/unity-example-application-mike-gangl', log_group_name='/aws/lambda/Unity-ADS--MCP-Clone')"
      ]
     },
     "execution_count": 6,
     "metadata": {},
     "output_type": "execute_result"
    }
   ],
   "source": [
    "response = app_service.build_application_package(clone_url)\n",
    "response"
   ]
  },
  {
   "cell_type": "markdown",
   "id": "a0afc3f4-cb79-4d5c-96a3-66e1176a5482",
   "metadata": {},
   "source": [
    "## What next?\n",
    "\n",
    "For now, there is little insight into the build process, but this will be improved in the future. For now, you can monitor dockstore for your newly built (or newly versioned, if it's being re-built) application package.",
    "For the above package, it can be found at http://awslbdockstorestack-lb-1429770210.us-west-2.elb.amazonaws.com:9998/workflows/dockstore.org/edwinsarkissian/SBG-unity-preprocess:1?tab=versions "
   ]
  }
 ],
 "metadata": {
  "kernelspec": {
   "display_name": "Python 3 (ipykernel)",
   "language": "python",
   "name": "python3"
  },
  "language_info": {
   "codemirror_mode": {
    "name": "ipython",
    "version": 3
   },
   "file_extension": ".py",
   "mimetype": "text/x-python",
   "name": "python",
   "nbconvert_exporter": "python",
   "pygments_lexer": "ipython3",
   "version": "3.10.8"
  }
 },
 "nbformat": 4,
 "nbformat_minor": 5
}
