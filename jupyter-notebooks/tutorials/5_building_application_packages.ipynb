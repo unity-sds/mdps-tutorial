{
 "cells": [
  {
   "cell_type": "markdown",
   "id": "06d1e842-8f93-4611-a636-9d5b61d7db3d",
   "metadata": {},
   "source": [
    "# Application Package Builds\n",
    "\n",
    "The process of turngin your notebook into a runable application package is described below. This requires the repository in which your applicaiton package is being built, as well as an access token to call the service. These build command will be integrated into unity_py in the future."
   ]
  },
  {
   "cell_type": "code",
   "execution_count": 1,
   "id": "35953442-9689-4f04-b733-ba46eb0887a0",
   "metadata": {},
   "outputs": [],
   "source": [
    "import requests\n",
    "\n",
    "from unity_sds_client.unity import Unity\n",
    "from unity_sds_client.unity import UnityEnvironments\n"
   ]
  },
  {
   "cell_type": "markdown",
   "id": "4ec41929-35e3-4e3a-a9f7-cd11ddfac113",
   "metadata": {},
   "source": [
    "For now, we will use the app-package builder in the development environment. So we need to get a token that works in that envionrment"
   ]
  },
  {
   "cell_type": "code",
   "execution_count": 2,
   "id": "92f2f0e6-e761-4152-8d40-0a80edb6f552",
   "metadata": {},
   "outputs": [
    {
     "name": "stdin",
     "output_type": "stream",
     "text": [
      "Please enter your Unity username:  gangl\n",
      "Please enter your Unity password:  ········\n"
     ]
    }
   ],
   "source": [
    "# if you're reading this as a user, you probably have a 'TEST' or 'PROD' user account. This will be updated to work though unity-py directly.\n",
    "s = Unity(UnityEnvironments.PROD)\n",
    "token = s._session.get_auth().get_token()"
   ]
  },
  {
   "cell_type": "markdown",
   "id": "178e0cfa-defd-4c84-b2cf-60fb4b64ae0d",
   "metadata": {},
   "source": [
    "We need the (open) repository that we would like to build. If you want to build a private repository, or a repository that is not publicly accessible, then you will need to build this on your own with the app-pack-generator."
   ]
  },
  {
   "cell_type": "code",
   "execution_count": 3,
   "id": "a5476227-ebf5-4b57-896b-1bee2ad5944c",
   "metadata": {},
   "outputs": [],
   "source": [
    "clone_url = \"https://github.com/unity-sds/SBG-unity-isofit\""
   ]
  },
  {
   "cell_type": "code",
   "execution_count": 4,
   "id": "3f3744ec-2210-4984-af5e-05fbcca804e7",
   "metadata": {},
   "outputs": [],
   "source": [
    "api_url = \"https://api.mdps.mcp.nasa.gov/ads-acb/mcp-clone\""
   ]
  },
  {
   "cell_type": "code",
   "execution_count": 5,
   "id": "4d355511-f290-4d04-98cf-e23887905b7d",
   "metadata": {},
   "outputs": [],
   "source": [
    "response = requests.get(api_url, \n",
    "    headers = { 'content-type': 'application/json',\n",
    "                'Authorization': 'Bearer ' + token,\n",
    "                'clone_url': clone_url })"
   ]
  },
  {
   "cell_type": "code",
   "execution_count": 6,
   "id": "c481e6d8-4c60-4926-b146-f426bb066674",
   "metadata": {},
   "outputs": [
    {
     "data": {
      "text/plain": [
       "200"
      ]
     },
     "execution_count": 6,
     "metadata": {},
     "output_type": "execute_result"
    }
   ],
   "source": [
    "response.status_code"
   ]
  },
  {
   "cell_type": "code",
   "execution_count": 7,
   "id": "cf1bbf6b-1883-4911-b43f-3d2a7fa91202",
   "metadata": {},
   "outputs": [
    {
     "data": {
      "text/plain": [
       "b'{\"clone_url\": \"https://github.com/unity-sds/SBG-unity-isofit\", \"log_group_name\": \"/aws/lambda/Unity-ADS--MCP-Clone\"}'"
      ]
     },
     "execution_count": 7,
     "metadata": {},
     "output_type": "execute_result"
    }
   ],
   "source": [
    "response.content"
   ]
  },
  {
   "cell_type": "markdown",
   "id": "a0afc3f4-cb79-4d5c-96a3-66e1176a5482",
   "metadata": {},
   "source": [
    "## What next?\n",
    "\n",
    "For now, there is little insight intpthe build process, but this will be future delivered capability. For now, you can monitor dockstore for your newly built (or newly versioned, if it's being re-built) application pacakge. for the above package, it can be found at http://awslbdockstorestack-lb-1429770210.us-west-2.elb.amazonaws.com:9998/workflows/dockstore.org/edwinsarkissian/SBG-unity-preprocess:1?tab=versions "
   ]
  },
  {
   "cell_type": "markdown",
   "id": "9e03cf98-0989-4a80-95a1-e90e2624d1ba",
   "metadata": {},
   "source": [
    "This functionality will also be available through unity-py, so remembering urls, headers, and token integration will be automatic in the future.\n"
   ]
  },
  {
   "cell_type": "code",
   "execution_count": null,
   "id": "8f3728d1-a7fe-4763-adf6-8ce74a034f86",
   "metadata": {},
   "outputs": [],
   "source": []
  }
 ],
 "metadata": {
  "kernelspec": {
   "display_name": "Python 3 (ipykernel)",
   "language": "python",
   "name": "python3"
  },
  "language_info": {
   "codemirror_mode": {
    "name": "ipython",
    "version": 3
   },
   "file_extension": ".py",
   "mimetype": "text/x-python",
   "name": "python",
   "nbconvert_exporter": "python",
   "pygments_lexer": "ipython3",
   "version": "3.8.18"
  }
 },
 "nbformat": 4,
 "nbformat_minor": 5
}
