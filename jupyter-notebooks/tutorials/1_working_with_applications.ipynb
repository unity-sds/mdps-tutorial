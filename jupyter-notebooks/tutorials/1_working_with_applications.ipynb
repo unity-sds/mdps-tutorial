{
 "cells": [
  {
   "cell_type": "markdown",
   "id": "55f72c34-0ac8-4625-86a9-17e7a859f011",
   "metadata": {},
   "source": [
    "# Deprecated-  Working with Applications\n",
    "The intent of this tutorial is to help familiarize yourself with submitting applications to the Unity Application Catalog. Adding applications to the application catalog allows you and others to generate data by submitting jobs that use an application selected from the catalog.\n",
    "\n",
    "## Deprecation:\n",
    "We are in the process of offering build tools to generate and store applications in the catalog without needing to manually configure these items. These instructions still work if you want to manually publish your CWL from a github repository to the application catalog.\n",
    "\n",
    "***Note, accounts and repositories hosted on GitHub.com are currently supported. GitHub Enterprise is not supported.***"
   ]
  },
  {
   "cell_type": "markdown",
   "id": "7fe60b57-62c8-44a8-aa20-cf5dd7551af1",
   "metadata": {
    "tags": []
   },
   "source": [
    "## I. Create a Dockstore account"
   ]
  },
  {
   "cell_type": "markdown",
   "id": "ac226cbe-bcd9-4365-b4a0-a3ad55fb3a90",
   "metadata": {
    "jp-MarkdownHeadingCollapsed": true,
    "tags": []
   },
   "source": [
    "#### 1. Visit [Unity's Dockstore Test Instance](http://uads-test-dockstore-deploy-lb-1762603872.us-west-2.elb.amazonaws.com:9998/).\n",
    "_For the purposes of this tutorial, we will be using Unity's test environment._\n",
    "\n",
    "![Dockstore Home](images/01-Dockstore-Home.png \"Dockstore Homepage\")\n",
    "<br><br>\n",
    "\n",
    "#### 2. Click Register in the top right corner and you will be redirected to the Dockstore Registration page.\n",
    "\n",
    "![Dockstore Registration Page](images/02-Register.png \"Dockstore Registeration Page\")\n",
    "<br><br>\n",
    "\n",
    "#### 3. Agree to Dockstore's Terms of Service and Privacy by enabling the checkbox and then clicking the \"Register with GitHub\" button.\n",
    "\n",
    "![Dockstore TOS and Privacy Policy Acknowledgement](images/03-Enable-Checkbox.png \"Acknowledge TOS and Privacy Policy\")\n",
    "<br><br>\n",
    "\n",
    "#### 4. Authorize the JPL Dockstore Application access to your GitHub account.\n",
    "\n",
    "![Unity Dockstore Application Authorization](images/04-Dockstore-App-Authorization.png \"Authorize Unity Dockstore Application\")\n",
    "<br><br>\n",
    "\n",
    "#### 5. Verify your Github Username is correct and click `Next`.\n",
    "\n",
    "![Verify GitHub Username](images/05-Verify-Username.png \"Verify Github Username\")\n",
    "<br><br>\n",
    "\n",
    "#### 6. On the Link External Accounts screen, scroll to the bottom and click `Next`.\n",
    "\n",
    "![Link External Accounts Screen](images/06-02-Link-External-Accounts-Click-Next.png \"Click next at the bottom of the Link External Accounts Screen\")\n",
    "<br><br>\n",
    "\n",
    "#### 7. On the Setup Dockstore CLI screen, scroll to the bottom and click `Next`.\n",
    "\n",
    "![Setup Dockstore CLI screen](images/07-02-Setup-CLI-Click-Next.png \"Click next at the bottom of the Setup Dockstore CLI screen.\")\n",
    "<br><br>\n",
    "\n",
    "#### 8. When you reach the \"Next Steps\" screen, you're account is set up and ready to be configured with your GitHub Account and Application Repositories.\n",
    "\n",
    "![Next Steps Dockstore Registration Screen](images/08-Next-Steps.png \"Final Dockstore Setup Screen\")\n",
    "<br><br>\n",
    "\n",
    "---"
   ]
  },
  {
   "cell_type": "markdown",
   "id": "1ae3c385-7190-4a5e-963f-617190d1a64c",
   "metadata": {
    "tags": []
   },
   "source": [
    "---\n",
    "## II. Configure GitHub Account and Repository Access for Dockstore\n"
   ]
  },
  {
   "cell_type": "markdown",
   "id": "b32832c9-f7e5-4578-95b3-9bb6347e4a38",
   "metadata": {
    "tags": []
   },
   "source": [
    "\n",
    "#### 1. Visit [GitHub](https://www.github.com) and login to your account.\n",
    "#### 2. Visit [https://github.com/apps/jpl-uads-dockstore](https://github.com/apps/jpl-uads-dockstore) and click the \"Configure\" button on the right of the page.\n",
    "\n",
    "![JPL Unity Dockstore GitHub Configuration](images/10-Configure-Dockstore-App.png \"Configure JPL Unity Dockstore GitHub App\")\n",
    "<br><br>\n",
    "\n",
    "#### 3. Configure the JPL Unity Dockstore application by providing it access to either:\n",
    "\n",
    "##### All the repositories in your account or\n",
    "##### Specific repositories by selecting those that Dockstore should have access to. When you have finished setting your repository information, click `Install`.\n",
    "\n",
    "![Repository Selection Screen for Dockstore](images/11-Install-Dockstore-App.png \"Install JPL Unity Dockstore Application\")\n",
    "<br><br>\n",
    "\n",
    "#### 4. Add `.dockstore.yml` to your repository.\n",
    "\n",
    "Add a `.dockstore.yml` configuration file to your repository. Documentation to configure this file can be found [here](https://docs.dockstore.org/en/stable/getting-started/github-apps/github-apps.html). Once you have added this file to your repository, it will take approximiately 5 minutes for Dockstore to process it. once completed, your application will show in your Dockstore account under \"My Workflows\"."
   ]
  },
  {
   "cell_type": "markdown",
   "id": "721fbed7-ac51-4b31-98c1-8f3c7b5b8073",
   "metadata": {
    "jp-MarkdownHeadingCollapsed": true,
    "tags": []
   },
   "source": [
    "---\n",
    "## III. Continue development and maintenance of application"
   ]
  },
  {
   "cell_type": "markdown",
   "id": "2595b6d6-fe13-4ac0-aa26-6ab6b29d7644",
   "metadata": {},
   "source": [
    "Now that your application is integrated with Dockstore, as you make changes, they will automatically be reflected in Dockstore."
   ]
  }
 ],
 "metadata": {
  "kernelspec": {
   "display_name": "Python 3 (ipykernel)",
   "language": "python",
   "name": "python3"
  },
  "language_info": {
   "codemirror_mode": {
    "name": "ipython",
    "version": 3
   },
   "file_extension": ".py",
   "mimetype": "text/x-python",
   "name": "python",
   "nbconvert_exporter": "python",
   "pygments_lexer": "ipython3",
   "version": "3.8.18"
  }
 },
 "nbformat": 4,
 "nbformat_minor": 5
}
