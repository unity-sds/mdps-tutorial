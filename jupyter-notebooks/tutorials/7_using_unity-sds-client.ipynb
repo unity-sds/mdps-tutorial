{
 "cells": [
  {
   "cell_type": "markdown",
   "id": "3be345ad-b008-45c6-b481-46888d2d2ebc",
   "metadata": {
    "editable": true,
    "slideshow": {
     "slide_type": ""
    },
    "tags": []
   },
   "source": [
    "# Unity SDS Client\n",
    "\n",
    "This tutorial gives an overview of unity-sds-client (\"unity.py\"), which is a Python helper library found at https://pypi.org/project/unity-sds-client/ or at https://github.com/unity-sds/unity-py"
   ]
  },
  {
   "cell_type": "markdown",
   "id": "5843da44-18b2-4089-accd-bbb03d5770f3",
   "metadata": {},
   "source": [
    "## Overview of the library\n",
    "\n",
    "![Overview image](images/unity_sds_client_overview/diagram_overview.png)"
   ]
  },
  {
   "cell_type": "markdown",
   "id": "1a128652-a73b-4b9c-93ce-5f4147d73c32",
   "metadata": {
    "editable": true,
    "slideshow": {
     "slide_type": ""
    },
    "tags": []
   },
   "source": [
    "## Setting up your imports\n",
    "\n",
    "The following set of imports will prepare us to try out interactions with the various service areas using unity-sds-client"
   ]
  },
  {
   "cell_type": "code",
   "execution_count": null,
   "id": "73bb0661-2086-4e75-a4cc-9026d6d11f18",
   "metadata": {},
   "outputs": [],
   "source": [
    "import json\n",
    "from IPython.display import JSON\n",
    "\n",
    "from unity_sds_client.unity import Unity\n",
    "from unity_sds_client.unity import UnityEnvironments\n",
    "from unity_sds_client.unity_session import UnitySession\n",
    "from unity_sds_client.unity_services import UnityServices\n",
    "from unity_sds_client.resources.collection import Collection, Dataset, DataFile"
   ]
  },
  {
   "cell_type": "markdown",
   "id": "4db52579-a8cd-43b8-b74d-658c626604c4",
   "metadata": {},
   "source": [
    "## Creating a session and logging in\n",
    "\n",
    "Once the imports are set up, the first thing to do is create a Unity session that will authorize your interactions with a Unity login. The Unity session will let you change environment and venue, and get authorization tokens.\n",
    "\n",
    "The Unity session will also be how we create interfaces to each of the service areas in later sections."
   ]
  },
  {
   "cell_type": "markdown",
   "id": "b1bb5e33-d219-4e50-b614-42ace38796ec",
   "metadata": {},
   "source": [
    "Instantiate the main Unity object using one of the environments (DEV, TEST, PROD) stored in the UnityEnvironments list.\n",
    "In Jupyter this will prompt you for a login. Printing the object will show the available environment options and associated endpoints.\n",
    "\n",
    "Note that these environments are the core Unity environments, not a venue for a particular mission project. Typically for\n",
    "end-users the environment is PROD and the venue_id should be changed (see below)."
   ]
  },
  {
   "cell_type": "code",
   "execution_count": null,
   "id": "d3b2d798-0df9-481a-9dc6-db69bb2f79e0",
   "metadata": {},
   "outputs": [],
   "source": [
    "session = Unity(UnityEnvironments.DEV)\n",
    "print(session)"
   ]
  },
  {
   "cell_type": "code",
   "execution_count": null,
   "id": "d53df2cc-b46e-4e12-a449-4be3802740e4",
   "metadata": {},
   "outputs": [],
   "source": [
    "#You can also set a venue\n",
    "session.set_venue_id(\"unity-sips-test\")"
   ]
  },
  {
   "cell_type": "code",
   "execution_count": null,
   "id": "daaf5c34-6f18-44fb-9227-081ce7b4ed44",
   "metadata": {},
   "outputs": [],
   "source": [
    "#If you need to get your login token from your current session, such as for STAC Browser, use this\n",
    "token = session._session.get_auth().get_token()\n",
    "print(token)"
   ]
  },
  {
   "cell_type": "markdown",
   "id": "0ce44b97-4e10-4b74-85d6-0189638bee45",
   "metadata": {},
   "source": [
    "## Working with Applications and the Application Catalog\n",
    "\n",
    "See the tutorial notebook: 1_working_with-applications\n",
    "\n",
    "This would be accessed with Dockstore APIs.\n",
    "Could wrap this in unity.py in the future?"
   ]
  },
  {
   "cell_type": "code",
   "execution_count": null,
   "id": "9781d3a9-7162-4d5b-8997-ec7786248b0b",
   "metadata": {},
   "outputs": [],
   "source": [
    "# Create an application service\n",
    "application_service = session.client(UnityServices.APPLICATION_SERVICE)"
   ]
  },
  {
   "cell_type": "markdown",
   "id": "a91e9d63-296f-4a37-9ab0-15891294e7ac",
   "metadata": {},
   "source": [
    "# Working with Processes and Jobs\n",
    "A Process is an Application that has been deployed to a processing service and is ready to be exeucted. A Job is a single instance of execution of a Process. Processes and Jobs are managed through the Process Service.\n",
    "\n",
    "For more details, see the tutorial notebook: 3_working_with_jobs"
   ]
  },
  {
   "cell_type": "code",
   "execution_count": null,
   "id": "a6f84980-6b48-4b9f-8a6d-471b92b44959",
   "metadata": {},
   "outputs": [],
   "source": [
    "# Create a Process service\n",
    "process_service = session.client(UnityServices.PROCESS_SERVICE)"
   ]
  },
  {
   "cell_type": "code",
   "execution_count": null,
   "id": "cce0cd96-2deb-49af-9ce3-f6e792e7a4c4",
   "metadata": {},
   "outputs": [],
   "source": [
    "# Get the list of processes from the process service.\n",
    "processes = process_service.get_processes()\n",
    "\n",
    "# To get info about a particular process, print it directly.\n",
    "print(processes[0])\n"
   ]
  },
  {
   "cell_type": "code",
   "execution_count": null,
   "id": "d0451398-d6c5-42de-8e62-4ce8c3f020da",
   "metadata": {},
   "outputs": [],
   "source": [
    "# To find jobs that have been run for a particular process, run:\n",
    "processes[0].get_jobs()"
   ]
  },
  {
   "cell_type": "code",
   "execution_count": null,
   "id": "9f42bfe8-f054-47c2-ab42-90e76353e270",
   "metadata": {},
   "outputs": [],
   "source": [
    "# To execute a process as a job\n",
    "data = {\n",
    "  \"mode\": \"async\",\n",
    "  \"response\": \"document\",\n",
    "  \"inputs\": [\n",
    "    {\n",
    "      \"id\": \"input_processing_labels\",\n",
    "      \"data\": [\n",
    "        \"gangl_test\"\n",
    "      ]\n",
    "    }\n",
    "  ]\n",
    "}\n",
    "\n",
    "processes[0].execute(data)"
   ]
  },
  {
   "cell_type": "markdown",
   "id": "a6b67a8b-0c36-4763-beed-09c5712d46d9",
   "metadata": {},
   "source": [
    "# Working with Data\n",
    "Data is grouped into Collections. A file may be in one or more Collection.\n",
    "\n",
    "For more details, see the tutorial notebooks: 2_working_with_data and 4_working_with_stac\n"
   ]
  },
  {
   "cell_type": "code",
   "execution_count": 12,
   "id": "63c955a8-d040-4f80-aab9-22404b0986ce",
   "metadata": {},
   "outputs": [
    {
     "name": "stdout",
     "output_type": "stream",
     "text": [
      "urn:nasa:unity:unity:dev:robt___1\n",
      "URN:NASA:UNITY:UDS_LOCAL_TEST:DEV:SNDR-SNPP_ATMS@L1B$OUTPUT___2402011200\n",
      "urn:nasa:unity:unity:dev:gangl___2\n",
      "urn:nasa:unity:unity:dev:gangl___1\n",
      "URN:NASA:UNITY:UDS_LOCAL_TEST:DEV:UDS_COLLECTION___2402011700\n",
      "urn:nasa:unity:unity:dev:SBG-L2A_CORFL___1\n",
      "urn:nasa:unity:unity:dev:SBG-L2A_RSRFL___1\n",
      "urn:nasa:unity:unity:dev:SBG-L2A_RFL___1\n",
      "urn:nasa:unity:unity:dev:SBG-L1B_PRE___1\n",
      "urn:nasa:unity:unity:dev:SBG-L2B_VEGBIOCHEM___1\n"
     ]
    }
   ],
   "source": [
    "# Create a Data Service to interact with:\n",
    "data_service = session.client(UnityServices.DATA_SERVICE)\n",
    "\n",
    "# List all the data collections:\n",
    "collections = data_service.get_collections()\n",
    "for c in collections:\n",
    "    print(c.collection_id)"
   ]
  },
  {
   "cell_type": "code",
   "execution_count": null,
   "id": "2ce0b4b9-65ce-4417-bbef-0d8dce9e4eb8",
   "metadata": {},
   "outputs": [],
   "source": [
    "# List files in a particular collection:\n",
    "collection_id = \"urn:nasa:unity:unity:dev:robt___1\"\n",
    "cd = data_service.get_collection_data(Collection(collection_id))\n",
    "\n",
    "for dataset in cd:\n",
    "    print(f'dataset name: {dataset.data_begin_time}')\n",
    "    print(f'dataset name: {dataset.id}' )\n",
    "    for f in dataset.datafiles:\n",
    "        print(f)"
   ]
  },
  {
   "cell_type": "code",
   "execution_count": null,
   "id": "17f4f0b4-ba07-4ca5-be81-6ed78f43d7bd",
   "metadata": {},
   "outputs": [],
   "source": [
    "# You can also create a collection with a collection ID\n",
    "data_service.create_collection(Collection(collection_id))"
   ]
  },
  {
   "cell_type": "code",
   "execution_count": null,
   "id": "1bb34cc9-eaae-4efd-82c0-6f33043b6207",
   "metadata": {
    "editable": true,
    "slideshow": {
     "slide_type": ""
    },
    "tags": []
   },
   "outputs": [],
   "source": [
    "collection_id = \"urn:nasa:unity:unity:test:SBG-L1B_PRE___1\"\n",
    "cd = dataManager.get_collection_data(Collection(collection_id), limit=100, filter=\"updated >= '2024-02-25T00:00:00Z' and updated <= '2025-02-26T23:59:59Z'\")\n",
    "for dataset in cd:\n",
    "    print(f'dataset name: {dataset.data_begin_time}')\n",
    "    print(f'dataset name: {dataset.id}' )\n",
    "    for f in dataset.datafiles:\n",
    "        print(f)\n",
    "        #print(\"\t\" + f.location + \", roles: \" + str(f.roles) + \", type: \" + f.type + \", description: \" + f.description + \", title: \" + f.title)"
   ]
  }
 ],
 "metadata": {
  "kernelspec": {
   "display_name": "Python [conda env:root] *",
   "language": "python",
   "name": "conda-root-py"
  },
  "language_info": {
   "codemirror_mode": {
    "name": "ipython",
    "version": 3
   },
   "file_extension": ".py",
   "mimetype": "text/x-python",
   "name": "python",
   "nbconvert_exporter": "python",
   "pygments_lexer": "ipython3",
   "version": "3.11.6"
  }
 },
 "nbformat": 4,
 "nbformat_minor": 5
}
